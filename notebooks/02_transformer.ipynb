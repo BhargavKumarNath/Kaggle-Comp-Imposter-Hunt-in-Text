{
 "cells": [
  {
   "cell_type": "code",
   "execution_count": null,
   "id": "ad6919f4",
   "metadata": {},
   "outputs": [],
   "source": [
    "from sentence_transformers import SentenceTransformer\n",
    "import numpy as np\n",
    "from sklearn.metrics.pairwise import paired_cosine_distances\n",
    "import pandas as pd\n",
    "import os\n",
    "from pathlib import Path\n",
    "import matplotlib.pyplot as plt\n",
    "import seaborn as sns\n",
    "from tqdm.notebook import tqdm"
   ]
  },
  {
   "cell_type": "code",
   "execution_count": 2,
   "id": "7ba51742",
   "metadata": {},
   "outputs": [
    {
     "name": "stdout",
     "output_type": "stream",
     "text": [
      "Loading training data...\n"
     ]
    },
    {
     "data": {
      "application/vnd.jupyter.widget-view+json": {
       "model_id": "43603a38afcc488da3a4666a683074de",
       "version_major": 2,
       "version_minor": 0
      },
      "text/plain": [
       "Loading Text 1:   0%|          | 0/95 [00:00<?, ?it/s]"
      ]
     },
     "metadata": {},
     "output_type": "display_data"
    },
    {
     "data": {
      "application/vnd.jupyter.widget-view+json": {
       "model_id": "25151a92aa014078a2afadef33500e1e",
       "version_major": 2,
       "version_minor": 0
      },
      "text/plain": [
       "Loading Text 2:   0%|          | 0/95 [00:00<?, ?it/s]"
      ]
     },
     "metadata": {},
     "output_type": "display_data"
    },
    {
     "name": "stdout",
     "output_type": "stream",
     "text": [
      "Data Loading complete\n",
      "Train DataFrame shape: (95, 6)\n"
     ]
    },
    {
     "data": {
      "text/html": [
       "<div>\n",
       "<style scoped>\n",
       "    .dataframe tbody tr th:only-of-type {\n",
       "        vertical-align: middle;\n",
       "    }\n",
       "\n",
       "    .dataframe tbody tr th {\n",
       "        vertical-align: top;\n",
       "    }\n",
       "\n",
       "    .dataframe thead th {\n",
       "        text-align: right;\n",
       "    }\n",
       "</style>\n",
       "<table border=\"1\" class=\"dataframe\">\n",
       "  <thead>\n",
       "    <tr style=\"text-align: right;\">\n",
       "      <th></th>\n",
       "      <th>id</th>\n",
       "      <th>real_text_id</th>\n",
       "      <th>text_1</th>\n",
       "      <th>text_2</th>\n",
       "      <th>real_text</th>\n",
       "      <th>fake_text</th>\n",
       "    </tr>\n",
       "  </thead>\n",
       "  <tbody>\n",
       "    <tr>\n",
       "      <th>0</th>\n",
       "      <td>0</td>\n",
       "      <td>1</td>\n",
       "      <td>The VIRSA (Visible Infrared Survey Telescope A...</td>\n",
       "      <td>The China relay network has released a signifi...</td>\n",
       "      <td>The VIRSA (Visible Infrared Survey Telescope A...</td>\n",
       "      <td>The China relay network has released a signifi...</td>\n",
       "    </tr>\n",
       "    <tr>\n",
       "      <th>1</th>\n",
       "      <td>1</td>\n",
       "      <td>2</td>\n",
       "      <td>China\\nThe goal of this project involves achie...</td>\n",
       "      <td>The project aims to achieve an accuracy level ...</td>\n",
       "      <td>The project aims to achieve an accuracy level ...</td>\n",
       "      <td>China\\nThe goal of this project involves achie...</td>\n",
       "    </tr>\n",
       "    <tr>\n",
       "      <th>2</th>\n",
       "      <td>2</td>\n",
       "      <td>1</td>\n",
       "      <td>Scientists can learn about how galaxies form a...</td>\n",
       "      <td>Dinosaur eggshells offer clues about what dino...</td>\n",
       "      <td>Scientists can learn about how galaxies form a...</td>\n",
       "      <td>Dinosaur eggshells offer clues about what dino...</td>\n",
       "    </tr>\n",
       "    <tr>\n",
       "      <th>3</th>\n",
       "      <td>3</td>\n",
       "      <td>2</td>\n",
       "      <td>China\\nThe study suggests that multiple star s...</td>\n",
       "      <td>The importance for understanding how stars evo...</td>\n",
       "      <td>The importance for understanding how stars evo...</td>\n",
       "      <td>China\\nThe study suggests that multiple star s...</td>\n",
       "    </tr>\n",
       "    <tr>\n",
       "      <th>4</th>\n",
       "      <td>4</td>\n",
       "      <td>2</td>\n",
       "      <td>Dinosaur Rex was excited about his new toy set...</td>\n",
       "      <td>Analyzing how fast stars rotate within a galax...</td>\n",
       "      <td>Analyzing how fast stars rotate within a galax...</td>\n",
       "      <td>Dinosaur Rex was excited about his new toy set...</td>\n",
       "    </tr>\n",
       "  </tbody>\n",
       "</table>\n",
       "</div>"
      ],
      "text/plain": [
       "   id  real_text_id                                             text_1  \\\n",
       "0   0             1  The VIRSA (Visible Infrared Survey Telescope A...   \n",
       "1   1             2  China\\nThe goal of this project involves achie...   \n",
       "2   2             1  Scientists can learn about how galaxies form a...   \n",
       "3   3             2  China\\nThe study suggests that multiple star s...   \n",
       "4   4             2  Dinosaur Rex was excited about his new toy set...   \n",
       "\n",
       "                                              text_2  \\\n",
       "0  The China relay network has released a signifi...   \n",
       "1  The project aims to achieve an accuracy level ...   \n",
       "2  Dinosaur eggshells offer clues about what dino...   \n",
       "3  The importance for understanding how stars evo...   \n",
       "4  Analyzing how fast stars rotate within a galax...   \n",
       "\n",
       "                                           real_text  \\\n",
       "0  The VIRSA (Visible Infrared Survey Telescope A...   \n",
       "1  The project aims to achieve an accuracy level ...   \n",
       "2  Scientists can learn about how galaxies form a...   \n",
       "3  The importance for understanding how stars evo...   \n",
       "4  Analyzing how fast stars rotate within a galax...   \n",
       "\n",
       "                                           fake_text  \n",
       "0  The China relay network has released a signifi...  \n",
       "1  China\\nThe goal of this project involves achie...  \n",
       "2  Dinosaur eggshells offer clues about what dino...  \n",
       "3  China\\nThe study suggests that multiple star s...  \n",
       "4  Dinosaur Rex was excited about his new toy set...  "
      ]
     },
     "metadata": {},
     "output_type": "display_data"
    }
   ],
   "source": [
    "BASE_PATH = Path('../')\n",
    "DATA_PATH = BASE_PATH / 'data'\n",
    "TRAIN_DIR = DATA_PATH / 'train'\n",
    "TEST_DIR = DATA_PATH / 'test'\n",
    "TRAIN_CSV = DATA_PATH / 'train.csv'\n",
    "\n",
    "# Load train data\n",
    "print(\"Loading training data...\")\n",
    "train_df = pd.read_csv(TRAIN_CSV)\n",
    "\n",
    "def get_text(file_path):\n",
    "    \"\"\"Reads text from a file\"\"\"\n",
    "    try:\n",
    "        with open(file_path, 'r', encoding='utf-8') as f:\n",
    "            return f.read()\n",
    "    except Exception as e:\n",
    "        print(f\"Error reading {file_path}: {e}\")\n",
    "        return \"\"\n",
    "\n",
    "# Load text content into df\n",
    "tqdm.pandas(desc=\"Loading Text 1\")\n",
    "train_df['text_1'] = train_df['id'].progress_apply(lambda x: get_text(TRAIN_DIR / f'article_{x:04d}' / 'file_1.txt'))\n",
    "\n",
    "tqdm.pandas(desc=\"Loading Text 2\")\n",
    "train_df['text_2'] = train_df['id'].progress_apply(lambda x: get_text(TRAIN_DIR / f'article_{x:04d}' / 'file_2.txt'))\n",
    "\n",
    "# Create cols for real and fake text\n",
    "train_df['real_text'] = np.where(train_df['real_text_id'] == 1, train_df['text_1'], train_df['text_2'])\n",
    "train_df['fake_text'] = np.where(train_df['real_text_id'] == 1, train_df['text_2'], train_df['text_1'])\n",
    "\n",
    "print(\"Data Loading complete\")\n",
    "print(f\"Train DataFrame shape: {train_df.shape}\")\n",
    "display(train_df.head())"
   ]
  },
  {
   "cell_type": "code",
   "execution_count": 3,
   "id": "4e544402",
   "metadata": {},
   "outputs": [
    {
     "name": "stdout",
     "output_type": "stream",
     "text": [
      "Creating features for text_1 and text_2...\n"
     ]
    },
    {
     "data": {
      "application/vnd.jupyter.widget-view+json": {
       "model_id": "7c875c24725147cbb8167052b9f5db31",
       "version_major": 2,
       "version_minor": 0
      },
      "text/plain": [
       "Loading Text 2:   0%|          | 0/95 [00:00<?, ?it/s]"
      ]
     },
     "metadata": {},
     "output_type": "display_data"
    },
    {
     "data": {
      "application/vnd.jupyter.widget-view+json": {
       "model_id": "f1231c217f87467eb42bf14f2b81eea0",
       "version_major": 2,
       "version_minor": 0
      },
      "text/plain": [
       "Loading Text 2:   0%|          | 0/95 [00:00<?, ?it/s]"
      ]
     },
     "metadata": {},
     "output_type": "display_data"
    },
    {
     "name": "stdout",
     "output_type": "stream",
     "text": [
      "Creating pairwise features...\n",
      "Feature engineering complete.\n"
     ]
    },
    {
     "data": {
      "text/html": [
       "<div>\n",
       "<style scoped>\n",
       "    .dataframe tbody tr th:only-of-type {\n",
       "        vertical-align: middle;\n",
       "    }\n",
       "\n",
       "    .dataframe tbody tr th {\n",
       "        vertical-align: top;\n",
       "    }\n",
       "\n",
       "    .dataframe thead th {\n",
       "        text-align: right;\n",
       "    }\n",
       "</style>\n",
       "<table border=\"1\" class=\"dataframe\">\n",
       "  <thead>\n",
       "    <tr style=\"text-align: right;\">\n",
       "      <th></th>\n",
       "      <th>char_len_1</th>\n",
       "      <th>word_count_1</th>\n",
       "      <th>sent_count_1</th>\n",
       "      <th>avg_word_len_1</th>\n",
       "      <th>avg_sent_len_1</th>\n",
       "      <th>stopword_ratio_1</th>\n",
       "      <th>punct_count_1</th>\n",
       "      <th>flesch_score_1</th>\n",
       "      <th>unique_word_ratio_1</th>\n",
       "      <th>char_len_2</th>\n",
       "      <th>...</th>\n",
       "      <th>avg_sent_len_diff</th>\n",
       "      <th>avg_sent_len_ratio</th>\n",
       "      <th>stopword_ratio_diff</th>\n",
       "      <th>stopword_ratio_ratio</th>\n",
       "      <th>punct_count_diff</th>\n",
       "      <th>punct_count_ratio</th>\n",
       "      <th>flesch_score_diff</th>\n",
       "      <th>flesch_score_ratio</th>\n",
       "      <th>unique_word_ratio_diff</th>\n",
       "      <th>unique_word_ratio_ratio</th>\n",
       "    </tr>\n",
       "  </thead>\n",
       "  <tbody>\n",
       "    <tr>\n",
       "      <th>0</th>\n",
       "      <td>2196</td>\n",
       "      <td>304</td>\n",
       "      <td>9</td>\n",
       "      <td>6.226974</td>\n",
       "      <td>33.777778</td>\n",
       "      <td>0.194079</td>\n",
       "      <td>32</td>\n",
       "      <td>-4.937217</td>\n",
       "      <td>0.802632</td>\n",
       "      <td>2018</td>\n",
       "      <td>...</td>\n",
       "      <td>4.177778</td>\n",
       "      <td>1.141141</td>\n",
       "      <td>-0.076191</td>\n",
       "      <td>0.718089</td>\n",
       "      <td>-1</td>\n",
       "      <td>0.969697</td>\n",
       "      <td>-21.858967</td>\n",
       "      <td>-0.291767</td>\n",
       "      <td>0.005334</td>\n",
       "      <td>1.006689</td>\n",
       "    </tr>\n",
       "    <tr>\n",
       "      <th>1</th>\n",
       "      <td>3124</td>\n",
       "      <td>454</td>\n",
       "      <td>9</td>\n",
       "      <td>5.883260</td>\n",
       "      <td>50.444444</td>\n",
       "      <td>0.321586</td>\n",
       "      <td>47</td>\n",
       "      <td>-3.233476</td>\n",
       "      <td>0.698238</td>\n",
       "      <td>936</td>\n",
       "      <td>...</td>\n",
       "      <td>27.611111</td>\n",
       "      <td>2.209246</td>\n",
       "      <td>0.058812</td>\n",
       "      <td>1.223808</td>\n",
       "      <td>24</td>\n",
       "      <td>2.043478</td>\n",
       "      <td>-23.044309</td>\n",
       "      <td>-0.163218</td>\n",
       "      <td>-0.155777</td>\n",
       "      <td>0.817594</td>\n",
       "    </tr>\n",
       "    <tr>\n",
       "      <th>2</th>\n",
       "      <td>1139</td>\n",
       "      <td>159</td>\n",
       "      <td>4</td>\n",
       "      <td>6.169811</td>\n",
       "      <td>39.750000</td>\n",
       "      <td>0.289308</td>\n",
       "      <td>16</td>\n",
       "      <td>0.219231</td>\n",
       "      <td>0.823899</td>\n",
       "      <td>801</td>\n",
       "      <td>...</td>\n",
       "      <td>-1.916667</td>\n",
       "      <td>0.954000</td>\n",
       "      <td>-0.030692</td>\n",
       "      <td>0.904085</td>\n",
       "      <td>7</td>\n",
       "      <td>1.777778</td>\n",
       "      <td>-17.976952</td>\n",
       "      <td>0.012048</td>\n",
       "      <td>-0.048101</td>\n",
       "      <td>0.944838</td>\n",
       "    </tr>\n",
       "    <tr>\n",
       "      <th>3</th>\n",
       "      <td>1774</td>\n",
       "      <td>263</td>\n",
       "      <td>8</td>\n",
       "      <td>5.749049</td>\n",
       "      <td>32.875000</td>\n",
       "      <td>0.326996</td>\n",
       "      <td>52</td>\n",
       "      <td>23.320625</td>\n",
       "      <td>0.726236</td>\n",
       "      <td>1869</td>\n",
       "      <td>...</td>\n",
       "      <td>-4.553571</td>\n",
       "      <td>0.878340</td>\n",
       "      <td>0.056004</td>\n",
       "      <td>1.206658</td>\n",
       "      <td>35</td>\n",
       "      <td>3.058823</td>\n",
       "      <td>24.651213</td>\n",
       "      <td>-17.526566</td>\n",
       "      <td>0.031579</td>\n",
       "      <td>1.045459</td>\n",
       "    </tr>\n",
       "    <tr>\n",
       "      <th>4</th>\n",
       "      <td>195</td>\n",
       "      <td>34</td>\n",
       "      <td>3</td>\n",
       "      <td>4.764706</td>\n",
       "      <td>11.333333</td>\n",
       "      <td>0.500000</td>\n",
       "      <td>6</td>\n",
       "      <td>68.431667</td>\n",
       "      <td>0.882353</td>\n",
       "      <td>871</td>\n",
       "      <td>...</td>\n",
       "      <td>-19.416667</td>\n",
       "      <td>0.368564</td>\n",
       "      <td>0.256098</td>\n",
       "      <td>2.049992</td>\n",
       "      <td>-13</td>\n",
       "      <td>0.315789</td>\n",
       "      <td>57.016667</td>\n",
       "      <td>5.994889</td>\n",
       "      <td>0.036824</td>\n",
       "      <td>1.043551</td>\n",
       "    </tr>\n",
       "  </tbody>\n",
       "</table>\n",
       "<p>5 rows × 36 columns</p>\n",
       "</div>"
      ],
      "text/plain": [
       "   char_len_1  word_count_1  sent_count_1  avg_word_len_1  avg_sent_len_1  \\\n",
       "0        2196           304             9        6.226974       33.777778   \n",
       "1        3124           454             9        5.883260       50.444444   \n",
       "2        1139           159             4        6.169811       39.750000   \n",
       "3        1774           263             8        5.749049       32.875000   \n",
       "4         195            34             3        4.764706       11.333333   \n",
       "\n",
       "   stopword_ratio_1  punct_count_1  flesch_score_1  unique_word_ratio_1  \\\n",
       "0          0.194079             32       -4.937217             0.802632   \n",
       "1          0.321586             47       -3.233476             0.698238   \n",
       "2          0.289308             16        0.219231             0.823899   \n",
       "3          0.326996             52       23.320625             0.726236   \n",
       "4          0.500000              6       68.431667             0.882353   \n",
       "\n",
       "   char_len_2  ...  avg_sent_len_diff  avg_sent_len_ratio  \\\n",
       "0        2018  ...           4.177778            1.141141   \n",
       "1         936  ...          27.611111            2.209246   \n",
       "2         801  ...          -1.916667            0.954000   \n",
       "3        1869  ...          -4.553571            0.878340   \n",
       "4         871  ...         -19.416667            0.368564   \n",
       "\n",
       "   stopword_ratio_diff  stopword_ratio_ratio  punct_count_diff  \\\n",
       "0            -0.076191              0.718089                -1   \n",
       "1             0.058812              1.223808                24   \n",
       "2            -0.030692              0.904085                 7   \n",
       "3             0.056004              1.206658                35   \n",
       "4             0.256098              2.049992               -13   \n",
       "\n",
       "   punct_count_ratio  flesch_score_diff  flesch_score_ratio  \\\n",
       "0           0.969697         -21.858967           -0.291767   \n",
       "1           2.043478         -23.044309           -0.163218   \n",
       "2           1.777778         -17.976952            0.012048   \n",
       "3           3.058823          24.651213          -17.526566   \n",
       "4           0.315789          57.016667            5.994889   \n",
       "\n",
       "   unique_word_ratio_diff  unique_word_ratio_ratio  \n",
       "0                0.005334                 1.006689  \n",
       "1               -0.155777                 0.817594  \n",
       "2               -0.048101                 0.944838  \n",
       "3                0.031579                 1.045459  \n",
       "4                0.036824                 1.043551  \n",
       "\n",
       "[5 rows x 36 columns]"
      ]
     },
     "metadata": {},
     "output_type": "display_data"
    }
   ],
   "source": [
    "import textstat\n",
    "from collections import Counter\n",
    "import re\n",
    "from nltk.corpus import stopwords\n",
    "import nltk\n",
    "nltk.download('stopwords', quiet=True)\n",
    "stop_words = set(stopwords.words('english'))\n",
    "\n",
    "def create_features(text):\n",
    "    \"\"\"Extracts a dictionary of features from a single text\"\"\"\n",
    "    if not isinstance(text, str) or not text:\n",
    "        return {\n",
    "            'char_len': 0, 'word_count': 0, 'sent_count': 0,\n",
    "            'avg_word_len': 0, 'avg_sent_len': 0, 'stopword_ratio': 0,\n",
    "            'punct_count': 0, 'flesch_score': 0, 'unique_word_ratio': 0\n",
    "        }\n",
    "    words = text.split()\n",
    "    word_count = len(words)\n",
    "    char_len = len(text)\n",
    "\n",
    "    if word_count == 0:\n",
    "        return {\n",
    "            'char_len': char_len, 'word_count': 0, 'sent_count': 0,\n",
    "            'avg_word_len': 0, 'avg_sent_len': 0, 'stopword_ratio': 0, 'punct_count': 0, 'flesch_score': 206.835, 'unique_word_ratio': 0\n",
    "        }\n",
    "    \n",
    "    sent_count = textstat.sentence_count(text)\n",
    "\n",
    "    avg_word_len = sum(len(word) for word in words) / word_count\n",
    "    avg_sent_len = word_count / sent_count if sent_count > 0 else 0\n",
    "\n",
    "    stopwords_in_text = [word for word in words if word.lower() in stop_words]\n",
    "    stopword_ratio = len(stopwords_in_text) / word_count\n",
    "\n",
    "    punct_count = len(re.findall(r'[!?,.;:\\-\\(\\)\\[\\]\"\\']', text))\n",
    "\n",
    "    unique_word_ratio = len(set(w.lower() for w in words)) / word_count\n",
    "\n",
    "    # Readability Scores\n",
    "    flesch_score = textstat.flesch_reading_ease(text)\n",
    "\n",
    "    features = {\n",
    "        'char_len': char_len,\n",
    "        'word_count': word_count,\n",
    "        'sent_count': sent_count,\n",
    "        'avg_word_len': avg_word_len,\n",
    "        'avg_sent_len': avg_sent_len,\n",
    "        'stopword_ratio': stopword_ratio,\n",
    "        'punct_count': punct_count,\n",
    "        'flesch_score': flesch_score,\n",
    "        'unique_word_ratio': unique_word_ratio,\n",
    "    }\n",
    "    return features\n",
    "\n",
    "print(\"Creating features for text_1 and text_2...\")\n",
    "\n",
    "# Apply to text_1\n",
    "feats_1 = train_df['text_1'].progress_apply(create_features)\n",
    "feats_1_df = pd.json_normalize(feats_1)\n",
    "feats_1_df.columns = [f'{col}_1' for col in feats_1_df.columns]\n",
    "\n",
    "# Apply to text_2\n",
    "feats_2 = train_df['text_2'].progress_apply(create_features)\n",
    "feats_2_df = pd.json_normalize(feats_2)\n",
    "feats_2_df.columns = [f'{col}_2' for col in feats_2_df.columns]\n",
    "\n",
    "# Concatenate features\n",
    "feature_df = pd.concat([feats_1_df, feats_2_df], axis=1)\n",
    "\n",
    "# Create Pairwise (Difference and Ratio) Features\n",
    "print(\"Creating pairwise features...\")\n",
    "base_features = [col.replace('_1', '') for col in feats_1_df.columns]\n",
    "for col in base_features:\n",
    "    epsilon = 1e-6\n",
    "    feature_df[f'{col}_diff'] = feature_df[f'{col}_1'] - feature_df[f'{col}_2']\n",
    "    feature_df[f'{col}_ratio'] = feature_df[f'{col}_1'] / (feature_df[f'{col}_2'] + epsilon)\n",
    "\n",
    "print(\"Feature engineering complete.\")\n",
    "display(feature_df.head())\n"
   ]
  },
  {
   "cell_type": "code",
   "execution_count": 4,
   "id": "a149e06a",
   "metadata": {},
   "outputs": [
    {
     "name": "stdout",
     "output_type": "stream",
     "text": [
      "--- Fold 1/5 ---\n",
      "[0]\tvalidation_0-error:0.52632\n",
      "[100]\tvalidation_0-error:0.47368\n",
      "[102]\tvalidation_0-error:0.47368\n",
      "Fold 1 Pairwise Accuracy: 0.57895\n",
      "--- Fold 2/5 ---\n",
      "[0]\tvalidation_0-error:0.26316\n",
      "[100]\tvalidation_0-error:0.15789\n",
      "[106]\tvalidation_0-error:0.15789\n",
      "Fold 2 Pairwise Accuracy: 0.89474\n",
      "--- Fold 3/5 ---\n",
      "[0]\tvalidation_0-error:0.21053\n",
      "[100]\tvalidation_0-error:0.10526\n",
      "[108]\tvalidation_0-error:0.10526\n",
      "Fold 3 Pairwise Accuracy: 0.89474\n",
      "--- Fold 4/5 ---\n",
      "[0]\tvalidation_0-error:0.10526\n",
      "[100]\tvalidation_0-error:0.15789\n",
      "Fold 4 Pairwise Accuracy: 0.89474\n",
      "--- Fold 5/5 ---\n",
      "[0]\tvalidation_0-error:0.36842\n",
      "[100]\tvalidation_0-error:0.15789\n",
      "[107]\tvalidation_0-error:0.15789\n",
      "Fold 5 Pairwise Accuracy: 0.89474\n",
      "\n",
      "Overall CV Pairwise Accuracy: 0.83158\n"
     ]
    },
    {
     "name": "stderr",
     "output_type": "stream",
     "text": [
      "c:\\Users\\bharg\\miniconda3\\Lib\\site-packages\\seaborn\\categorical.py:1273: FutureWarning: DataFrameGroupBy.apply operated on the grouping columns. This behavior is deprecated, and in a future version of pandas the grouping columns will be excluded from the operation. Either pass `include_groups=False` to exclude the groupings or explicitly select the grouping columns after groupby to silence this warning.\n",
      "  .apply(aggregator, agg_var)\n"
     ]
    },
    {
     "data": {
      "image/png": "[encoded data removed]",
      "text/plain": [
       "<Figure size 1200x1000 with 1 Axes>"
      ]
     },
     "metadata": {},
     "output_type": "display_data"
    }
   ],
   "source": [
    "import xgboost as xgb\n",
    "from sklearn.model_selection import StratifiedKFold\n",
    "from sklearn.metrics import accuracy_score\n",
    "import numpy as np\n",
    "import pandas as pd\n",
    "import matplotlib.pyplot as plt\n",
    "import seaborn as sns\n",
    "\n",
    "# Target\n",
    "y = train_df['real_text_id'] - 1\n",
    "X = feature_df.copy()\n",
    "\n",
    "N_SPLITS = 5\n",
    "skf = StratifiedKFold(n_splits=N_SPLITS, shuffle=True, random_state=42)\n",
    "\n",
    "oof_preds = np.zeros(len(X))\n",
    "models = []\n",
    "feature_importances = pd.DataFrame(index=X.columns)\n",
    "\n",
    "for fold, (train_idx, val_idx) in enumerate(skf.split(X, y)):\n",
    "    print(f\"--- Fold {fold+1}/{N_SPLITS} ---\")\n",
    "\n",
    "    X_train, y_train = X.iloc[train_idx], y.iloc[train_idx]\n",
    "    X_val, y_val = X.iloc[val_idx], y.iloc[val_idx]\n",
    "\n",
    "    model = xgb.XGBClassifier(\n",
    "        objective='binary:logistic',\n",
    "        random_state=42,\n",
    "        n_estimators=5000,\n",
    "        learning_rate=0.05,\n",
    "        max_depth=6,\n",
    "        subsample=0.7,\n",
    "        colsample_bytree=0.7,\n",
    "        tree_method='hist',     \n",
    "        eval_metric='error',\n",
    "        early_stopping_rounds=100,  \n",
    "        verbosity=0\n",
    "    )\n",
    "\n",
    "    model.fit(\n",
    "        X_train, y_train,\n",
    "        eval_set=[(X_val, y_val)],\n",
    "        verbose=100\n",
    "    )\n",
    "\n",
    "    preds = model.predict(X_val)\n",
    "    oof_preds[val_idx] = preds\n",
    "    models.append(model)\n",
    "    feature_importances[f'fold_{fold+1}'] = model.feature_importances_\n",
    "\n",
    "    # Evaluate fold\n",
    "    acc = accuracy_score(y_val, preds)\n",
    "    print(f\"Fold {fold+1} Pairwise Accuracy: {acc:.5f}\")\n",
    "\n",
    "# Overall CV score\n",
    "overall_accuracy = accuracy_score(y, oof_preds)\n",
    "print(f\"\\nOverall CV Pairwise Accuracy: {overall_accuracy:.5f}\")\n",
    "\n",
    "# Feature importance\n",
    "feature_importances['mean'] = feature_importances.mean(axis=1)\n",
    "feature_importances.sort_values('mean', ascending=False, inplace=True)\n",
    "\n",
    "plt.figure(figsize=(12, 10))\n",
    "sns.barplot(x='mean', y=feature_importances.index[:30], data=feature_importances.head(30))\n",
    "plt.title('Top 30 Features Importances (XGBoost)')\n",
    "plt.xlabel('Mean Importance over Folds')\n",
    "plt.ylabel('Feature')\n",
    "plt.show()"
   ]
  },
  {
   "cell_type": "code",
   "execution_count": 6,
   "id": "949390c9",
   "metadata": {},
   "outputs": [
    {
     "name": "stderr",
     "output_type": "stream",
     "text": [
      "[I 2025-08-24 00:41:56,213] A new study created in memory with name: no-name-1d2dc9ef-ed80-4fe6-a05a-ca3af28c52ff\n",
      "[I 2025-08-24 00:41:56,326] Trial 0 finished with value: 0.5157930107526881 and parameters: {'learning_rate': 0.022477142032062917, 'max_depth': 13, 'subsample': 0.652334450744379, 'colsample_bytree': 0.6933366536563477, 'min_child_weight': 18}. Best is trial 0 with value: 0.5157930107526881.\n",
      "[I 2025-08-24 00:41:56,433] Trial 1 finished with value: 0.5157930107526881 and parameters: {'learning_rate': 0.02849786995692108, 'max_depth': 8, 'subsample': 0.795498573809873, 'colsample_bytree': 0.6220009912370417, 'min_child_weight': 12}. Best is trial 0 with value: 0.5157930107526881.\n",
      "[I 2025-08-24 00:41:56,543] Trial 2 finished with value: 0.5157930107526881 and parameters: {'learning_rate': 0.06954124029805508, 'max_depth': 8, 'subsample': 0.8085547847057147, 'colsample_bytree': 0.5500467167420328, 'min_child_weight': 14}. Best is trial 0 with value: 0.5157930107526881.\n",
      "[I 2025-08-24 00:41:56,659] Trial 3 finished with value: 0.5157930107526881 and parameters: {'learning_rate': 0.028406778960541453, 'max_depth': 9, 'subsample': 0.8700647744832108, 'colsample_bytree': 0.8470495065087995, 'min_child_weight': 20}. Best is trial 0 with value: 0.5157930107526881.\n",
      "[I 2025-08-24 00:41:56,778] Trial 4 finished with value: 0.8215725806451614 and parameters: {'learning_rate': 0.019946171623347206, 'max_depth': 7, 'subsample': 0.7631462152734063, 'colsample_bytree': 0.6416803746266849, 'min_child_weight': 4}. Best is trial 4 with value: 0.8215725806451614.\n",
      "[I 2025-08-24 00:41:56,889] Trial 5 finished with value: 0.5157930107526881 and parameters: {'learning_rate': 0.09474824247195714, 'max_depth': 6, 'subsample': 0.5595802092485251, 'colsample_bytree': 0.5505450890019049, 'min_child_weight': 15}. Best is trial 4 with value: 0.8215725806451614.\n",
      "[I 2025-08-24 00:41:57,001] Trial 6 finished with value: 0.5157930107526881 and parameters: {'learning_rate': 0.030657161254378437, 'max_depth': 7, 'subsample': 0.5193123842103935, 'colsample_bytree': 0.8320866099831052, 'min_child_weight': 19}. Best is trial 4 with value: 0.8215725806451614.\n",
      "[I 2025-08-24 00:41:57,117] Trial 7 finished with value: 0.5157930107526881 and parameters: {'learning_rate': 0.024282838016806838, 'max_depth': 12, 'subsample': 0.6804927303761286, 'colsample_bytree': 0.771759156926296, 'min_child_weight': 14}. Best is trial 4 with value: 0.8215725806451614.\n",
      "[I 2025-08-24 00:41:57,244] Trial 8 finished with value: 0.8004032258064516 and parameters: {'learning_rate': 0.05079952278583956, 'max_depth': 12, 'subsample': 0.8630450952987665, 'colsample_bytree': 0.6040591515951668, 'min_child_weight': 3}. Best is trial 4 with value: 0.8215725806451614.\n",
      "[I 2025-08-24 00:41:57,350] Trial 9 finished with value: 0.5157930107526881 and parameters: {'learning_rate': 0.08857311667781612, 'max_depth': 5, 'subsample': 0.7654982450440274, 'colsample_bytree': 0.5221032134728185, 'min_child_weight': 11}. Best is trial 4 with value: 0.8215725806451614.\n",
      "[I 2025-08-24 00:41:57,474] Trial 10 finished with value: 0.8215725806451614 and parameters: {'learning_rate': 0.05023303029723798, 'max_depth': 3, 'subsample': 0.604364421873768, 'colsample_bytree': 0.6993570540154844, 'min_child_weight': 5}. Best is trial 4 with value: 0.8215725806451614.\n",
      "[I 2025-08-24 00:41:57,593] Trial 11 finished with value: 0.831989247311828 and parameters: {'learning_rate': 0.051789479160708744, 'max_depth': 3, 'subsample': 0.607866498582685, 'colsample_bytree': 0.7039958798026074, 'min_child_weight': 4}. Best is trial 11 with value: 0.831989247311828.\n",
      "[I 2025-08-24 00:41:57,736] Trial 12 finished with value: 0.831989247311828 and parameters: {'learning_rate': 0.01302581353861906, 'max_depth': 3, 'subsample': 0.7331511086968083, 'colsample_bytree': 0.6452406040099241, 'min_child_weight': 6}. Best is trial 11 with value: 0.831989247311828.\n",
      "[I 2025-08-24 00:41:57,856] Trial 13 finished with value: 0.5157930107526881 and parameters: {'learning_rate': 0.06815639394550356, 'max_depth': 3, 'subsample': 0.6267710502350373, 'colsample_bytree': 0.7478749888164917, 'min_child_weight': 7}. Best is trial 11 with value: 0.831989247311828.\n",
      "[I 2025-08-24 00:41:58,000] Trial 14 finished with value: 0.852486559139785 and parameters: {'learning_rate': 0.04236663013005408, 'max_depth': 4, 'subsample': 0.7119097263523138, 'colsample_bytree': 0.7703598515016382, 'min_child_weight': 1}. Best is trial 14 with value: 0.852486559139785.\n",
      "[I 2025-08-24 00:41:58,146] Trial 15 finished with value: 0.8215725806451614 and parameters: {'learning_rate': 0.04227946236958311, 'max_depth': 5, 'subsample': 0.5812338464287988, 'colsample_bytree': 0.8951868745119897, 'min_child_weight': 1}. Best is trial 14 with value: 0.852486559139785.\n",
      "[I 2025-08-24 00:41:58,262] Trial 16 finished with value: 0.5157930107526881 and parameters: {'learning_rate': 0.06712134149963415, 'max_depth': 5, 'subsample': 0.6874772299658201, 'colsample_bytree': 0.769695568572762, 'min_child_weight': 8}. Best is trial 14 with value: 0.852486559139785.\n",
      "[I 2025-08-24 00:41:58,413] Trial 17 finished with value: 0.8424059139784946 and parameters: {'learning_rate': 0.04000366832131134, 'max_depth': 15, 'subsample': 0.5051843297200015, 'colsample_bytree': 0.73896447343451, 'min_child_weight': 1}. Best is trial 14 with value: 0.852486559139785.\n",
      "[I 2025-08-24 00:41:58,552] Trial 18 finished with value: 0.831989247311828 and parameters: {'learning_rate': 0.040709543007372895, 'max_depth': 15, 'subsample': 0.5125099604368242, 'colsample_bytree': 0.8121104963828777, 'min_child_weight': 1}. Best is trial 14 with value: 0.852486559139785.\n",
      "[I 2025-08-24 00:41:58,666] Trial 19 finished with value: 0.5157930107526881 and parameters: {'learning_rate': 0.03739326724942415, 'max_depth': 15, 'subsample': 0.6567325694916526, 'colsample_bytree': 0.7358220410188855, 'min_child_weight': 9}. Best is trial 14 with value: 0.852486559139785.\n",
      "[I 2025-08-24 00:41:58,800] Trial 20 finished with value: 0.8215725806451614 and parameters: {'learning_rate': 0.05940326720738619, 'max_depth': 10, 'subsample': 0.7198976164846154, 'colsample_bytree': 0.8021374505699609, 'min_child_weight': 2}. Best is trial 14 with value: 0.852486559139785.\n",
      "[I 2025-08-24 00:41:58,928] Trial 21 finished with value: 0.831989247311828 and parameters: {'learning_rate': 0.05854691581512282, 'max_depth': 4, 'subsample': 0.5572819949952491, 'colsample_bytree': 0.6828905306725348, 'min_child_weight': 3}. Best is trial 14 with value: 0.852486559139785.\n",
      "[I 2025-08-24 00:41:59,106] Trial 22 finished with value: 0.738239247311828 and parameters: {'learning_rate': 0.04564043465592408, 'max_depth': 10, 'subsample': 0.5061048262202829, 'colsample_bytree': 0.7372416116581006, 'min_child_weight': 5}. Best is trial 14 with value: 0.852486559139785.\n",
      "[I 2025-08-24 00:41:59,250] Trial 23 finished with value: 0.8209005376344086 and parameters: {'learning_rate': 0.07775606721531836, 'max_depth': 4, 'subsample': 0.620755214280411, 'colsample_bytree': 0.716447176756329, 'min_child_weight': 1}. Best is trial 14 with value: 0.852486559139785.\n",
      "[I 2025-08-24 00:41:59,383] Trial 24 finished with value: 0.831989247311828 and parameters: {'learning_rate': 0.03640202970699377, 'max_depth': 14, 'subsample': 0.5548845809382283, 'colsample_bytree': 0.6721463008333166, 'min_child_weight': 3}. Best is trial 14 with value: 0.852486559139785.\n",
      "[I 2025-08-24 00:41:59,514] Trial 25 finished with value: 0.8111559139784946 and parameters: {'learning_rate': 0.056196549852134736, 'max_depth': 6, 'subsample': 0.5845375346663638, 'colsample_bytree': 0.7749681231283773, 'min_child_weight': 5}. Best is trial 14 with value: 0.852486559139785.\n",
      "[I 2025-08-24 00:41:59,637] Trial 26 finished with value: 0.821236559139785 and parameters: {'learning_rate': 0.048722830078824525, 'max_depth': 11, 'subsample': 0.6394114032530985, 'colsample_bytree': 0.8735770684575743, 'min_child_weight': 3}. Best is trial 14 with value: 0.852486559139785.\n",
      "[I 2025-08-24 00:41:59,753] Trial 27 finished with value: 0.5157930107526881 and parameters: {'learning_rate': 0.03594228841337676, 'max_depth': 4, 'subsample': 0.5363569620940156, 'colsample_bytree': 0.7982207363700395, 'min_child_weight': 9}. Best is trial 14 with value: 0.852486559139785.\n",
      "[I 2025-08-24 00:41:59,900] Trial 28 finished with value: 0.8420698924731184 and parameters: {'learning_rate': 0.0616660105435803, 'max_depth': 6, 'subsample': 0.7262891526839511, 'colsample_bytree': 0.724491247967126, 'min_child_weight': 1}. Best is trial 14 with value: 0.852486559139785.\n",
      "[I 2025-08-24 00:42:00,020] Trial 29 finished with value: 0.5157930107526881 and parameters: {'learning_rate': 0.07786499583287425, 'max_depth': 13, 'subsample': 0.7168484770397996, 'colsample_bytree': 0.6633986403220283, 'min_child_weight': 17}. Best is trial 14 with value: 0.852486559139785.\n",
      "[I 2025-08-24 00:42:00,201] Trial 30 finished with value: 0.8004032258064516 and parameters: {'learning_rate': 0.06227255452229899, 'max_depth': 6, 'subsample': 0.836351733486045, 'colsample_bytree': 0.7513423651357706, 'min_child_weight': 2}. Best is trial 14 with value: 0.852486559139785.\n",
      "[I 2025-08-24 00:42:00,344] Trial 31 finished with value: 0.8528225806451614 and parameters: {'learning_rate': 0.05325584574083622, 'max_depth': 4, 'subsample': 0.672317766490629, 'colsample_bytree': 0.7119555437928345, 'min_child_weight': 1}. Best is trial 31 with value: 0.8528225806451614.\n",
      "[I 2025-08-24 00:42:00,482] Trial 32 finished with value: 0.8215725806451614 and parameters: {'learning_rate': 0.044024554486017047, 'max_depth': 7, 'subsample': 0.7494872628122666, 'colsample_bytree': 0.7148024251094777, 'min_child_weight': 1}. Best is trial 31 with value: 0.8528225806451614.\n",
      "[I 2025-08-24 00:42:00,616] Trial 33 finished with value: 0.831989247311828 and parameters: {'learning_rate': 0.07610303920787967, 'max_depth': 8, 'subsample': 0.6641165179483831, 'colsample_bytree': 0.7270469729596747, 'min_child_weight': 2}. Best is trial 31 with value: 0.8528225806451614.\n",
      "[I 2025-08-24 00:42:00,741] Trial 34 finished with value: 0.8108198924731184 and parameters: {'learning_rate': 0.054050956714813574, 'max_depth': 4, 'subsample': 0.8054817611667746, 'colsample_bytree': 0.5929140582398273, 'min_child_weight': 4}. Best is trial 31 with value: 0.8528225806451614.\n",
      "[I 2025-08-24 00:42:00,861] Trial 35 finished with value: 0.8215725806451614 and parameters: {'learning_rate': 0.06274259289072827, 'max_depth': 5, 'subsample': 0.7808530151205244, 'colsample_bytree': 0.7841889476449722, 'min_child_weight': 6}. Best is trial 31 with value: 0.8528225806451614.\n",
      "[I 2025-08-24 00:42:00,994] Trial 36 finished with value: 0.8424059139784946 and parameters: {'learning_rate': 0.031192265565934234, 'max_depth': 9, 'subsample': 0.6968244673730382, 'colsample_bytree': 0.8225109707110998, 'min_child_weight': 2}. Best is trial 31 with value: 0.8528225806451614.\n",
      "[I 2025-08-24 00:42:01,131] Trial 37 finished with value: 0.8424059139784946 and parameters: {'learning_rate': 0.030045470733614153, 'max_depth': 9, 'subsample': 0.6965250041716432, 'colsample_bytree': 0.8298021785657228, 'min_child_weight': 2}. Best is trial 31 with value: 0.8528225806451614.\n",
      "[I 2025-08-24 00:42:01,258] Trial 38 finished with value: 0.8108198924731184 and parameters: {'learning_rate': 0.01871047576696127, 'max_depth': 8, 'subsample': 0.8907808470540699, 'colsample_bytree': 0.8582148086990692, 'min_child_weight': 4}. Best is trial 31 with value: 0.8528225806451614.\n",
      "[I 2025-08-24 00:42:01,374] Trial 39 finished with value: 0.5157930107526881 and parameters: {'learning_rate': 0.025290392574057186, 'max_depth': 13, 'subsample': 0.6653609453542879, 'colsample_bytree': 0.823854284269289, 'min_child_weight': 13}. Best is trial 31 with value: 0.8528225806451614.\n",
      "[I 2025-08-24 00:42:01,507] Trial 40 finished with value: 0.8424059139784946 and parameters: {'learning_rate': 0.03357555815578499, 'max_depth': 11, 'subsample': 0.7020839925712825, 'colsample_bytree': 0.7648101865234715, 'min_child_weight': 2}. Best is trial 31 with value: 0.8528225806451614.\n",
      "[I 2025-08-24 00:42:01,640] Trial 41 finished with value: 0.8215725806451614 and parameters: {'learning_rate': 0.030089460809465764, 'max_depth': 7, 'subsample': 0.688286477834855, 'colsample_bytree': 0.8346378101723385, 'min_child_weight': 2}. Best is trial 31 with value: 0.8528225806451614.\n",
      "[I 2025-08-24 00:42:01,791] Trial 42 finished with value: 0.8004032258064516 and parameters: {'learning_rate': 0.016973652254441758, 'max_depth': 9, 'subsample': 0.7435836229128434, 'colsample_bytree': 0.861249210425295, 'min_child_weight': 3}. Best is trial 31 with value: 0.8528225806451614.\n",
      "[I 2025-08-24 00:42:01,937] Trial 43 finished with value: 0.8528225806451614 and parameters: {'learning_rate': 0.026799829293556482, 'max_depth': 10, 'subsample': 0.7037380299563429, 'colsample_bytree': 0.7917958465749333, 'min_child_weight': 1}. Best is trial 31 with value: 0.8528225806451614.\n",
      "[I 2025-08-24 00:42:02,100] Trial 44 finished with value: 0.821236559139785 and parameters: {'learning_rate': 0.02481791179939323, 'max_depth': 14, 'subsample': 0.758024585520825, 'colsample_bytree': 0.7837462920966117, 'min_child_weight': 1}. Best is trial 31 with value: 0.8528225806451614.\n",
      "[I 2025-08-24 00:42:02,228] Trial 45 finished with value: 0.8004032258064516 and parameters: {'learning_rate': 0.03973100485571573, 'max_depth': 12, 'subsample': 0.7100478868338034, 'colsample_bytree': 0.7993948857818223, 'min_child_weight': 4}. Best is trial 31 with value: 0.8528225806451614.\n",
      "[I 2025-08-24 00:42:02,374] Trial 46 finished with value: 0.8004032258064516 and parameters: {'learning_rate': 0.04536882633049932, 'max_depth': 10, 'subsample': 0.8311933707327422, 'colsample_bytree': 0.7633322715030224, 'min_child_weight': 3}. Best is trial 31 with value: 0.8528225806451614.\n",
      "[I 2025-08-24 00:42:02,485] Trial 47 finished with value: 0.5157930107526881 and parameters: {'learning_rate': 0.011980149533091709, 'max_depth': 11, 'subsample': 0.7859982516238266, 'colsample_bytree': 0.6908755834060194, 'min_child_weight': 16}. Best is trial 31 with value: 0.8528225806451614.\n",
      "[I 2025-08-24 00:42:02,647] Trial 48 finished with value: 0.8215725806451614 and parameters: {'learning_rate': 0.03296562690560294, 'max_depth': 12, 'subsample': 0.6765715868910072, 'colsample_bytree': 0.7539730407847889, 'min_child_weight': 6}. Best is trial 31 with value: 0.8528225806451614.\n",
      "[I 2025-08-24 00:42:02,762] Trial 49 finished with value: 0.5157930107526881 and parameters: {'learning_rate': 0.02699938372378735, 'max_depth': 14, 'subsample': 0.7378316166571643, 'colsample_bytree': 0.8156007171759856, 'min_child_weight': 11}. Best is trial 31 with value: 0.8528225806451614.\n",
      "[I 2025-08-24 00:42:02,915] Trial 50 finished with value: 0.8424059139784946 and parameters: {'learning_rate': 0.022703722529107778, 'max_depth': 5, 'subsample': 0.6382693738908758, 'colsample_bytree': 0.6275870099808263, 'min_child_weight': 1}. Best is trial 31 with value: 0.8528225806451614.\n",
      "[I 2025-08-24 00:42:03,050] Trial 51 finished with value: 0.831989247311828 and parameters: {'learning_rate': 0.030080469479046194, 'max_depth': 9, 'subsample': 0.6908798369685197, 'colsample_bytree': 0.846397218356955, 'min_child_weight': 2}. Best is trial 31 with value: 0.8528225806451614.\n",
      "[I 2025-08-24 00:42:03,194] Trial 52 finished with value: 0.831989247311828 and parameters: {'learning_rate': 0.04828226747582473, 'max_depth': 9, 'subsample': 0.70800865403887, 'colsample_bytree': 0.7887382785457807, 'min_child_weight': 2}. Best is trial 31 with value: 0.8528225806451614.\n",
      "[I 2025-08-24 00:42:03,319] Trial 53 finished with value: 0.821236559139785 and parameters: {'learning_rate': 0.040156123145383915, 'max_depth': 10, 'subsample': 0.6723042485837625, 'colsample_bytree': 0.8861679919361812, 'min_child_weight': 3}. Best is trial 31 with value: 0.8528225806451614.\n",
      "[I 2025-08-24 00:42:03,447] Trial 54 finished with value: 0.8215725806451614 and parameters: {'learning_rate': 0.021388501213374163, 'max_depth': 8, 'subsample': 0.6470358645489541, 'colsample_bytree': 0.8301581050683986, 'min_child_weight': 4}. Best is trial 31 with value: 0.8528225806451614.\n",
      "[I 2025-08-24 00:42:03,590] Trial 55 finished with value: 0.821236559139785 and parameters: {'learning_rate': 0.02800810006191066, 'max_depth': 3, 'subsample': 0.773444779639531, 'colsample_bytree': 0.807811533577217, 'min_child_weight': 1}. Best is trial 31 with value: 0.8528225806451614.\n",
      "[I 2025-08-24 00:42:03,712] Trial 56 finished with value: 0.8111559139784946 and parameters: {'learning_rate': 0.03471379068289088, 'max_depth': 8, 'subsample': 0.5939897257504588, 'colsample_bytree': 0.8420291770869548, 'min_child_weight': 5}. Best is trial 31 with value: 0.8528225806451614.\n",
      "[I 2025-08-24 00:42:03,854] Trial 57 finished with value: 0.831989247311828 and parameters: {'learning_rate': 0.015741014024893668, 'max_depth': 9, 'subsample': 0.6965369884529077, 'colsample_bytree': 0.5011705685771195, 'min_child_weight': 2}. Best is trial 31 with value: 0.8528225806451614.\n",
      "[I 2025-08-24 00:42:03,974] Trial 58 finished with value: 0.5157930107526881 and parameters: {'learning_rate': 0.03864415522035574, 'max_depth': 7, 'subsample': 0.619725641729979, 'colsample_bytree': 0.7393872908252294, 'min_child_weight': 7}. Best is trial 31 with value: 0.8528225806451614.\n",
      "[I 2025-08-24 00:42:04,090] Trial 59 finished with value: 0.5157930107526881 and parameters: {'learning_rate': 0.03228687452487924, 'max_depth': 13, 'subsample': 0.723060367724196, 'colsample_bytree': 0.7027961228974353, 'min_child_weight': 20}. Best is trial 31 with value: 0.8528225806451614.\n",
      "[I 2025-08-24 00:42:04,230] Trial 60 finished with value: 0.863239247311828 and parameters: {'learning_rate': 0.04346467168115996, 'max_depth': 15, 'subsample': 0.6502988589472062, 'colsample_bytree': 0.8215966466306017, 'min_child_weight': 1}. Best is trial 60 with value: 0.863239247311828.\n",
      "[I 2025-08-24 00:42:04,379] Trial 61 finished with value: 0.8528225806451614 and parameters: {'learning_rate': 0.04255751471873696, 'max_depth': 15, 'subsample': 0.6559387704124569, 'colsample_bytree': 0.8600391602967218, 'min_child_weight': 1}. Best is trial 60 with value: 0.863239247311828.\n",
      "[I 2025-08-24 00:42:04,524] Trial 62 finished with value: 0.8424059139784946 and parameters: {'learning_rate': 0.05377682522267607, 'max_depth': 15, 'subsample': 0.6534829447623367, 'colsample_bytree': 0.8613877632297217, 'min_child_weight': 1}. Best is trial 60 with value: 0.863239247311828.\n",
      "[I 2025-08-24 00:42:04,662] Trial 63 finished with value: 0.8215725806451614 and parameters: {'learning_rate': 0.04370850102192546, 'max_depth': 15, 'subsample': 0.527575296194024, 'colsample_bytree': 0.7922532176162391, 'min_child_weight': 1}. Best is trial 60 with value: 0.863239247311828.\n",
      "[I 2025-08-24 00:42:04,806] Trial 64 finished with value: 0.8424059139784946 and parameters: {'learning_rate': 0.04732162275444966, 'max_depth': 14, 'subsample': 0.6804228789062046, 'colsample_bytree': 0.8791160030709441, 'min_child_weight': 1}. Best is trial 60 with value: 0.863239247311828.\n",
      "[I 2025-08-24 00:42:04,932] Trial 65 finished with value: 0.821236559139785 and parameters: {'learning_rate': 0.05001559334863774, 'max_depth': 15, 'subsample': 0.6356425922178265, 'colsample_bytree': 0.89840393475931, 'min_child_weight': 3}. Best is trial 60 with value: 0.863239247311828.\n",
      "[I 2025-08-24 00:42:05,063] Trial 66 finished with value: 0.821236559139785 and parameters: {'learning_rate': 0.04220360350732574, 'max_depth': 14, 'subsample': 0.6058040865387592, 'colsample_bytree': 0.8196379797488534, 'min_child_weight': 2}. Best is trial 60 with value: 0.863239247311828.\n",
      "[I 2025-08-24 00:42:05,192] Trial 67 finished with value: 0.8215725806451614 and parameters: {'learning_rate': 0.037506953380894284, 'max_depth': 13, 'subsample': 0.6575353076596889, 'colsample_bytree': 0.7703181662405736, 'min_child_weight': 4}. Best is trial 60 with value: 0.863239247311828.\n",
      "[I 2025-08-24 00:42:05,345] Trial 68 finished with value: 0.8108198924731184 and parameters: {'learning_rate': 0.04594265746717659, 'max_depth': 15, 'subsample': 0.7309047905857223, 'colsample_bytree': 0.7473361891497956, 'min_child_weight': 3}. Best is trial 60 with value: 0.863239247311828.\n",
      "[I 2025-08-24 00:42:05,484] Trial 69 finished with value: 0.831989247311828 and parameters: {'learning_rate': 0.0957301561894897, 'max_depth': 4, 'subsample': 0.567959416115218, 'colsample_bytree': 0.7153987835784607, 'min_child_weight': 2}. Best is trial 60 with value: 0.863239247311828.\n",
      "[I 2025-08-24 00:42:05,628] Trial 70 finished with value: 0.831989247311828 and parameters: {'learning_rate': 0.052346238835805255, 'max_depth': 15, 'subsample': 0.5005279770007134, 'colsample_bytree': 0.7807578438178945, 'min_child_weight': 1}. Best is trial 60 with value: 0.863239247311828.\n",
      "[I 2025-08-24 00:42:05,756] Trial 71 finished with value: 0.8215725806451614 and parameters: {'learning_rate': 0.05698180766457985, 'max_depth': 14, 'subsample': 0.6999077426796628, 'colsample_bytree': 0.8508387671603659, 'min_child_weight': 2}. Best is trial 60 with value: 0.863239247311828.\n",
      "[I 2025-08-24 00:42:05,897] Trial 72 finished with value: 0.8424059139784946 and parameters: {'learning_rate': 0.03594773743568845, 'max_depth': 6, 'subsample': 0.6683371341993196, 'colsample_bytree': 0.8336883161980695, 'min_child_weight': 1}. Best is trial 60 with value: 0.863239247311828.\n",
      "[I 2025-08-24 00:42:06,029] Trial 73 finished with value: 0.821236559139785 and parameters: {'learning_rate': 0.0995435149456691, 'max_depth': 11, 'subsample': 0.7085185046696486, 'colsample_bytree': 0.8088266989969879, 'min_child_weight': 2}. Best is trial 60 with value: 0.863239247311828.\n",
      "[I 2025-08-24 00:42:06,144] Trial 74 finished with value: 0.5157930107526881 and parameters: {'learning_rate': 0.04116300058298121, 'max_depth': 3, 'subsample': 0.6831586405641137, 'colsample_bytree': 0.7572212063708148, 'min_child_weight': 19}. Best is trial 60 with value: 0.863239247311828.\n",
      "[I 2025-08-24 00:42:06,276] Trial 75 finished with value: 0.8108198924731184 and parameters: {'learning_rate': 0.0325254423625159, 'max_depth': 10, 'subsample': 0.7188854037365316, 'colsample_bytree': 0.8708218690083368, 'min_child_weight': 3}. Best is trial 60 with value: 0.863239247311828.\n",
      "[I 2025-08-24 00:42:06,421] Trial 76 finished with value: 0.8215725806451614 and parameters: {'learning_rate': 0.026971098186364336, 'max_depth': 15, 'subsample': 0.7479598175354633, 'colsample_bytree': 0.8261616649318181, 'min_child_weight': 1}. Best is trial 60 with value: 0.863239247311828.\n",
      "[I 2025-08-24 00:42:06,569] Trial 77 finished with value: 0.831989247311828 and parameters: {'learning_rate': 0.04299801369408122, 'max_depth': 4, 'subsample': 0.6494652394609185, 'colsample_bytree': 0.7292965464773851, 'min_child_weight': 2}. Best is trial 60 with value: 0.863239247311828.\n",
      "[I 2025-08-24 00:42:06,702] Trial 78 finished with value: 0.831989247311828 and parameters: {'learning_rate': 0.030428291883485184, 'max_depth': 13, 'subsample': 0.5392835861482566, 'colsample_bytree': 0.8157530990257689, 'min_child_weight': 3}. Best is trial 60 with value: 0.863239247311828.\n",
      "[I 2025-08-24 00:42:06,815] Trial 79 finished with value: 0.5157930107526881 and parameters: {'learning_rate': 0.038132462468255766, 'max_depth': 5, 'subsample': 0.6983682301587129, 'colsample_bytree': 0.8529015696017166, 'min_child_weight': 10}. Best is trial 60 with value: 0.863239247311828.\n",
      "[I 2025-08-24 00:42:06,964] Trial 80 finished with value: 0.8215725806451614 and parameters: {'learning_rate': 0.06543644237922389, 'max_depth': 8, 'subsample': 0.758227911704045, 'colsample_bytree': 0.7990620559707801, 'min_child_weight': 1}. Best is trial 60 with value: 0.863239247311828.\n",
      "[I 2025-08-24 00:42:07,097] Trial 81 finished with value: 0.8424059139784946 and parameters: {'learning_rate': 0.03342046790858091, 'max_depth': 11, 'subsample': 0.7067864293553389, 'colsample_bytree': 0.7672596204404566, 'min_child_weight': 2}. Best is trial 60 with value: 0.863239247311828.\n",
      "[I 2025-08-24 00:42:07,241] Trial 82 finished with value: 0.8215725806451614 and parameters: {'learning_rate': 0.03458161000688739, 'max_depth': 10, 'subsample': 0.7332399028396709, 'colsample_bytree': 0.7426411616236173, 'min_child_weight': 2}. Best is trial 60 with value: 0.863239247311828.\n",
      "[I 2025-08-24 00:42:07,376] Trial 83 finished with value: 0.821236559139785 and parameters: {'learning_rate': 0.02506562000995237, 'max_depth': 9, 'subsample': 0.6897829921111216, 'colsample_bytree': 0.8392579836505745, 'min_child_weight': 3}. Best is trial 60 with value: 0.863239247311828.\n",
      "[I 2025-08-24 00:42:07,510] Trial 84 finished with value: 0.8215725806451614 and parameters: {'learning_rate': 0.02968055541716308, 'max_depth': 14, 'subsample': 0.6655162493900395, 'colsample_bytree': 0.759437814077916, 'min_child_weight': 4}. Best is trial 60 with value: 0.863239247311828.\n",
      "[I 2025-08-24 00:42:07,651] Trial 85 finished with value: 0.8316532258064516 and parameters: {'learning_rate': 0.0461984776824762, 'max_depth': 11, 'subsample': 0.6297254790701433, 'colsample_bytree': 0.686123009351598, 'min_child_weight': 1}. Best is trial 60 with value: 0.863239247311828.\n",
      "[I 2025-08-24 00:42:07,790] Trial 86 finished with value: 0.8424059139784946 and parameters: {'learning_rate': 0.020809605989095054, 'max_depth': 12, 'subsample': 0.6752716518336558, 'colsample_bytree': 0.7768564599191252, 'min_child_weight': 1}. Best is trial 60 with value: 0.863239247311828.\n",
      "[I 2025-08-24 00:42:07,928] Trial 87 finished with value: 0.8316532258064516 and parameters: {'learning_rate': 0.0727588077707104, 'max_depth': 9, 'subsample': 0.6148992400944997, 'colsample_bytree': 0.794719196052882, 'min_child_weight': 2}. Best is trial 60 with value: 0.863239247311828.\n",
      "[I 2025-08-24 00:42:08,045] Trial 88 finished with value: 0.5157930107526881 and parameters: {'learning_rate': 0.023137395281395974, 'max_depth': 10, 'subsample': 0.7177226914488681, 'colsample_bytree': 0.569662866717667, 'min_child_weight': 13}. Best is trial 60 with value: 0.863239247311828.\n",
      "[I 2025-08-24 00:42:08,166] Trial 89 finished with value: 0.8323252688172044 and parameters: {'learning_rate': 0.04000822998543509, 'max_depth': 14, 'subsample': 0.6901054504355137, 'colsample_bytree': 0.6561340267614804, 'min_child_weight': 5}. Best is trial 60 with value: 0.863239247311828.\n",
      "[I 2025-08-24 00:42:08,293] Trial 90 finished with value: 0.8004032258064516 and parameters: {'learning_rate': 0.03521361952193129, 'max_depth': 7, 'subsample': 0.7046692264492096, 'colsample_bytree': 0.8040933387925704, 'min_child_weight': 3}. Best is trial 60 with value: 0.863239247311828.\n",
      "[I 2025-08-24 00:42:08,452] Trial 91 finished with value: 0.831989247311828 and parameters: {'learning_rate': 0.027396807671026403, 'max_depth': 4, 'subsample': 0.6446787496576023, 'colsample_bytree': 0.6069546484686611, 'min_child_weight': 1}. Best is trial 60 with value: 0.863239247311828.\n",
      "[I 2025-08-24 00:42:08,587] Trial 92 finished with value: 0.8316532258064516 and parameters: {'learning_rate': 0.018645339534292593, 'max_depth': 3, 'subsample': 0.6559308014622462, 'colsample_bytree': 0.6738834727021706, 'min_child_weight': 1}. Best is trial 60 with value: 0.863239247311828.\n",
      "[I 2025-08-24 00:42:08,743] Trial 93 finished with value: 0.831989247311828 and parameters: {'learning_rate': 0.015345181833909701, 'max_depth': 5, 'subsample': 0.6379529893474832, 'colsample_bytree': 0.7092464112308534, 'min_child_weight': 2}. Best is trial 60 with value: 0.863239247311828.\n",
      "[I 2025-08-24 00:42:08,891] Trial 94 finished with value: 0.8528225806451614 and parameters: {'learning_rate': 0.031147766199063506, 'max_depth': 6, 'subsample': 0.67942180652757, 'colsample_bytree': 0.7242315136478482, 'min_child_weight': 1}. Best is trial 60 with value: 0.863239247311828.\n",
      "[I 2025-08-24 00:42:09,025] Trial 95 finished with value: 0.831989247311828 and parameters: {'learning_rate': 0.03835987528351007, 'max_depth': 6, 'subsample': 0.684186960523099, 'colsample_bytree': 0.7355457595482976, 'min_child_weight': 2}. Best is trial 60 with value: 0.863239247311828.\n",
      "[I 2025-08-24 00:42:09,180] Trial 96 finished with value: 0.8629032258064516 and parameters: {'learning_rate': 0.03202918468986872, 'max_depth': 15, 'subsample': 0.695917517542768, 'colsample_bytree': 0.7185810577120125, 'min_child_weight': 1}. Best is trial 60 with value: 0.863239247311828.\n",
      "[I 2025-08-24 00:42:09,323] Trial 97 finished with value: 0.8528225806451614 and parameters: {'learning_rate': 0.03167109038457399, 'max_depth': 15, 'subsample': 0.666972926258195, 'colsample_bytree': 0.7230279734404529, 'min_child_weight': 1}. Best is trial 60 with value: 0.863239247311828.\n",
      "[I 2025-08-24 00:42:09,468] Trial 98 finished with value: 0.863239247311828 and parameters: {'learning_rate': 0.050007307582202155, 'max_depth': 15, 'subsample': 0.6611686431833327, 'colsample_bytree': 0.6968617092079522, 'min_child_weight': 1}. Best is trial 60 with value: 0.863239247311828.\n",
      "[I 2025-08-24 00:42:09,608] Trial 99 finished with value: 0.8528225806451614 and parameters: {'learning_rate': 0.05242462648254259, 'max_depth': 15, 'subsample': 0.6737460028806627, 'colsample_bytree': 0.7248191198782398, 'min_child_weight': 1}. Best is trial 60 with value: 0.863239247311828.\n"
     ]
    },
    {
     "name": "stdout",
     "output_type": "stream",
     "text": [
      "\n",
      "Top 10 trials:\n",
      "    number     value  params_learning_rate  params_max_depth  \\\n",
      "60      60  0.863239              0.043465                15   \n",
      "98      98  0.863239              0.050007                15   \n",
      "96      96  0.862903              0.032029                15   \n",
      "99      99  0.852823              0.052425                15   \n",
      "97      97  0.852823              0.031671                15   \n",
      "94      94  0.852823              0.031148                 6   \n",
      "31      31  0.852823              0.053256                 4   \n",
      "43      43  0.852823              0.026800                10   \n",
      "61      61  0.852823              0.042558                15   \n",
      "14      14  0.852487              0.042367                 4   \n",
      "\n",
      "    params_subsample  params_colsample_bytree  params_min_child_weight  \n",
      "60          0.650299                 0.821597                        1  \n",
      "98          0.661169                 0.696862                        1  \n",
      "96          0.695918                 0.718581                        1  \n",
      "99          0.673746                 0.724819                        1  \n",
      "97          0.666973                 0.723028                        1  \n",
      "94          0.679422                 0.724232                        1  \n",
      "31          0.672318                 0.711956                        1  \n",
      "43          0.703738                 0.791796                        1  \n",
      "61          0.655939                 0.860039                        1  \n",
      "14          0.711910                 0.770360                        1  \n",
      "Best parameters (XGBoost): {'learning_rate': 0.04346467168115996, 'max_depth': 15, 'subsample': 0.6502988589472062, 'colsample_bytree': 0.8215966466306017, 'min_child_weight': 1}\n",
      "Best CV accuracy: 0.863239247311828\n"
     ]
    }
   ],
   "source": [
    "#Optuna\n",
    "import optuna\n",
    "\n",
    "def objective_xgb(trial):\n",
    "    params = {\n",
    "        'objective': 'binary:logistic',\n",
    "        'learning_rate': trial.suggest_float('learning_rate', 0.01, 0.1),\n",
    "        'max_depth': trial.suggest_int('max_depth', 3, 15),\n",
    "        'subsample': trial.suggest_float('subsample', 0.5, 0.9),\n",
    "        'colsample_bytree': trial.suggest_float('colsample_bytree', 0.5, 0.9),\n",
    "        'min_child_weight': trial.suggest_int('min_child_weight', 1, 20),\n",
    "        'n_estimators': 5000,\n",
    "        'tree_method': 'hist',          \n",
    "        'verbosity': 0,                 \n",
    "        'eval_metric': 'error',         \n",
    "        'early_stopping_rounds': 100,   \n",
    "        'random_state': 42              \n",
    "    }\n",
    "\n",
    "    skf = StratifiedKFold(n_splits=3, shuffle=True, random_state=42)\n",
    "    accuracies = []\n",
    "\n",
    "    for train_idx, val_idx in skf.split(X, y):\n",
    "        X_train, X_val = X.iloc[train_idx], X.iloc[val_idx]\n",
    "        y_train, y_val = y.iloc[train_idx], y.iloc[val_idx]\n",
    "\n",
    "        model = xgb.XGBClassifier(**params)\n",
    "        model.fit(\n",
    "            X_train, y_train,\n",
    "            eval_set=[(X_val, y_val)],\n",
    "            verbose=False  \n",
    "        )\n",
    "\n",
    "        preds = model.predict(X_val)\n",
    "        acc = accuracy_score(y_val, preds)\n",
    "        accuracies.append(acc)\n",
    "\n",
    "    return np.mean(accuracies)\n",
    "\n",
    "# Run Optuna\n",
    "study_xgb = optuna.create_study(direction='maximize')\n",
    "study_xgb.optimize(objective_xgb, n_trials=100)\n",
    "\n",
    "trials_df = study_xgb.trials_dataframe()\n",
    "top10_trials = trials_df.sort_values(\"value\", ascending=False).head(10)\n",
    "\n",
    "print(\"\\nTop 10 trials:\")\n",
    "print(top10_trials[[\"number\", \"value\", \"params_learning_rate\", \"params_max_depth\", \n",
    "                    \"params_subsample\", \"params_colsample_bytree\", \"params_min_child_weight\"]])\n",
    "\n",
    "\n",
    "print(\"Best parameters (XGBoost):\", study_xgb.best_params)\n",
    "print(\"Best CV accuracy:\", study_xgb.best_value)"
   ]
  },
  {
   "cell_type": "code",
   "execution_count": 9,
   "id": "9d50a027",
   "metadata": {},
   "outputs": [
    {
     "name": "stdout",
     "output_type": "stream",
     "text": [
      "Loading Sentence Transformer model...\n"
     ]
    },
    {
     "data": {
      "application/vnd.jupyter.widget-view+json": {
       "model_id": "a40df75ade674803807b714cd3b39336",
       "version_major": 2,
       "version_minor": 0
      },
      "text/plain": [
       "modules.json:   0%|          | 0.00/349 [00:00<?, ?B/s]"
      ]
     },
     "metadata": {},
     "output_type": "display_data"
    },
    {
     "name": "stderr",
     "output_type": "stream",
     "text": [
      "c:\\Users\\bharg\\miniconda3\\Lib\\site-packages\\huggingface_hub\\file_download.py:143: UserWarning: `huggingface_hub` cache-system uses symlinks by default to efficiently store duplicated files but your machine does not support them in C:\\Users\\bharg\\.cache\\huggingface\\hub\\models--sentence-transformers--all-mpnet-base-v2. Caching files will still work but in a degraded version that might require more space on your disk. This warning can be disabled by setting the `HF_HUB_DISABLE_SYMLINKS_WARNING` environment variable. For more details, see https://huggingface.co/docs/huggingface_hub/how-to-cache#limitations.\n",
      "To support symlinks on Windows, you either need to activate Developer Mode or to run Python as an administrator. In order to activate developer mode, see this article: https://docs.microsoft.com/en-us/windows/apps/get-started/enable-your-device-for-development\n",
      "  warnings.warn(message)\n"
     ]
    },
    {
     "data": {
      "application/vnd.jupyter.widget-view+json": {
       "model_id": "bfefdcf3fc8f4573b1b0d6ba76b5a0b0",
       "version_major": 2,
       "version_minor": 0
      },
      "text/plain": [
       "config_sentence_transformers.json:   0%|          | 0.00/116 [00:00<?, ?B/s]"
      ]
     },
     "metadata": {},
     "output_type": "display_data"
    },
    {
     "data": {
      "application/vnd.jupyter.widget-view+json": {
       "model_id": "70741741e4964b439625686c06697348",
       "version_major": 2,
       "version_minor": 0
      },
      "text/plain": [
       "README.md: 0.00B [00:00, ?B/s]"
      ]
     },
     "metadata": {},
     "output_type": "display_data"
    },
    {
     "data": {
      "application/vnd.jupyter.widget-view+json": {
       "model_id": "c98a368f25414790abd8e2bd8704ebac",
       "version_major": 2,
       "version_minor": 0
      },
      "text/plain": [
       "sentence_bert_config.json:   0%|          | 0.00/53.0 [00:00<?, ?B/s]"
      ]
     },
     "metadata": {},
     "output_type": "display_data"
    },
    {
     "data": {
      "application/vnd.jupyter.widget-view+json": {
       "model_id": "28e355a22a664995a27e5084e6d1eecd",
       "version_major": 2,
       "version_minor": 0
      },
      "text/plain": [
       "config.json:   0%|          | 0.00/571 [00:00<?, ?B/s]"
      ]
     },
     "metadata": {},
     "output_type": "display_data"
    },
    {
     "data": {
      "application/vnd.jupyter.widget-view+json": {
       "model_id": "c7198c07a9204d9dade329142a8b237d",
       "version_major": 2,
       "version_minor": 0
      },
      "text/plain": [
       "model.safetensors:   0%|          | 0.00/438M [00:00<?, ?B/s]"
      ]
     },
     "metadata": {},
     "output_type": "display_data"
    },
    {
     "data": {
      "application/vnd.jupyter.widget-view+json": {
       "model_id": "87b8e5d4b9404c918218ff09f01bdbc6",
       "version_major": 2,
       "version_minor": 0
      },
      "text/plain": [
       "tokenizer_config.json:   0%|          | 0.00/363 [00:00<?, ?B/s]"
      ]
     },
     "metadata": {},
     "output_type": "display_data"
    },
    {
     "data": {
      "application/vnd.jupyter.widget-view+json": {
       "model_id": "a6f050a491c241df907f2da50de89d79",
       "version_major": 2,
       "version_minor": 0
      },
      "text/plain": [
       "vocab.txt: 0.00B [00:00, ?B/s]"
      ]
     },
     "metadata": {},
     "output_type": "display_data"
    },
    {
     "data": {
      "application/vnd.jupyter.widget-view+json": {
       "model_id": "2f79f4d5ea1a4df88637762e6c685a1e",
       "version_major": 2,
       "version_minor": 0
      },
      "text/plain": [
       "tokenizer.json: 0.00B [00:00, ?B/s]"
      ]
     },
     "metadata": {},
     "output_type": "display_data"
    },
    {
     "data": {
      "application/vnd.jupyter.widget-view+json": {
       "model_id": "a24d685c2e4f40f7a3748bb15722de50",
       "version_major": 2,
       "version_minor": 0
      },
      "text/plain": [
       "special_tokens_map.json:   0%|          | 0.00/239 [00:00<?, ?B/s]"
      ]
     },
     "metadata": {},
     "output_type": "display_data"
    },
    {
     "data": {
      "application/vnd.jupyter.widget-view+json": {
       "model_id": "b7364bc9929b4edbaf005c247c91c222",
       "version_major": 2,
       "version_minor": 0
      },
      "text/plain": [
       "config.json:   0%|          | 0.00/190 [00:00<?, ?B/s]"
      ]
     },
     "metadata": {},
     "output_type": "display_data"
    },
    {
     "name": "stdout",
     "output_type": "stream",
     "text": [
      "Encoding texts...\n"
     ]
    },
    {
     "data": {
      "application/vnd.jupyter.widget-view+json": {
       "model_id": "e6e88c404e9f4f259a420ed299680528",
       "version_major": 2,
       "version_minor": 0
      },
      "text/plain": [
       "Batches:   0%|          | 0/3 [00:00<?, ?it/s]"
      ]
     },
     "metadata": {},
     "output_type": "display_data"
    },
    {
     "data": {
      "application/vnd.jupyter.widget-view+json": {
       "model_id": "dd149131e69f4fc28c6b759a891dd117",
       "version_major": 2,
       "version_minor": 0
      },
      "text/plain": [
       "Batches:   0%|          | 0/3 [00:00<?, ?it/s]"
      ]
     },
     "metadata": {},
     "output_type": "display_data"
    },
    {
     "name": "stdout",
     "output_type": "stream",
     "text": [
      "Embeddings created. Shape: (95, 768)\n",
      "Creating semantic features\n",
      "Semantic Features Created\n"
     ]
    },
    {
     "data": {
      "text/html": [
       "<div>\n",
       "<style scoped>\n",
       "    .dataframe tbody tr th:only-of-type {\n",
       "        vertical-align: middle;\n",
       "    }\n",
       "\n",
       "    .dataframe tbody tr th {\n",
       "        vertical-align: top;\n",
       "    }\n",
       "\n",
       "    .dataframe thead th {\n",
       "        text-align: right;\n",
       "    }\n",
       "</style>\n",
       "<table border=\"1\" class=\"dataframe\">\n",
       "  <thead>\n",
       "    <tr style=\"text-align: right;\">\n",
       "      <th></th>\n",
       "      <th>sem_diff_0</th>\n",
       "      <th>sem_diff_1</th>\n",
       "      <th>sem_diff_2</th>\n",
       "      <th>sem_diff_3</th>\n",
       "      <th>sem_diff_4</th>\n",
       "      <th>sem_diff_5</th>\n",
       "      <th>sem_diff_6</th>\n",
       "      <th>sem_diff_7</th>\n",
       "      <th>sem_diff_8</th>\n",
       "      <th>sem_diff_9</th>\n",
       "      <th>...</th>\n",
       "      <th>sem_diff_759</th>\n",
       "      <th>sem_diff_760</th>\n",
       "      <th>sem_diff_761</th>\n",
       "      <th>sem_diff_762</th>\n",
       "      <th>sem_diff_763</th>\n",
       "      <th>sem_diff_764</th>\n",
       "      <th>sem_diff_765</th>\n",
       "      <th>sem_diff_766</th>\n",
       "      <th>sem_diff_767</th>\n",
       "      <th>cosine_sim</th>\n",
       "    </tr>\n",
       "  </thead>\n",
       "  <tbody>\n",
       "    <tr>\n",
       "      <th>0</th>\n",
       "      <td>0.019083</td>\n",
       "      <td>0.006649</td>\n",
       "      <td>0.014612</td>\n",
       "      <td>-0.021872</td>\n",
       "      <td>0.013211</td>\n",
       "      <td>0.006887</td>\n",
       "      <td>0.016760</td>\n",
       "      <td>-0.006569</td>\n",
       "      <td>0.021447</td>\n",
       "      <td>0.004465</td>\n",
       "      <td>...</td>\n",
       "      <td>0.033263</td>\n",
       "      <td>0.005071</td>\n",
       "      <td>-0.003286</td>\n",
       "      <td>-0.022461</td>\n",
       "      <td>-0.016347</td>\n",
       "      <td>0.011188</td>\n",
       "      <td>0.021890</td>\n",
       "      <td>0.042394</td>\n",
       "      <td>0.019980</td>\n",
       "      <td>0.551330</td>\n",
       "    </tr>\n",
       "    <tr>\n",
       "      <th>1</th>\n",
       "      <td>-0.002131</td>\n",
       "      <td>0.100618</td>\n",
       "      <td>-0.006860</td>\n",
       "      <td>-0.015465</td>\n",
       "      <td>-0.002975</td>\n",
       "      <td>-0.005482</td>\n",
       "      <td>0.043374</td>\n",
       "      <td>0.023411</td>\n",
       "      <td>-0.042388</td>\n",
       "      <td>0.009743</td>\n",
       "      <td>...</td>\n",
       "      <td>-0.008845</td>\n",
       "      <td>-0.001277</td>\n",
       "      <td>-0.013604</td>\n",
       "      <td>0.014051</td>\n",
       "      <td>-0.015411</td>\n",
       "      <td>-0.013543</td>\n",
       "      <td>-0.029538</td>\n",
       "      <td>0.019512</td>\n",
       "      <td>-0.032364</td>\n",
       "      <td>0.610046</td>\n",
       "    </tr>\n",
       "    <tr>\n",
       "      <th>2</th>\n",
       "      <td>-0.073394</td>\n",
       "      <td>-0.059585</td>\n",
       "      <td>0.028701</td>\n",
       "      <td>-0.039264</td>\n",
       "      <td>0.008226</td>\n",
       "      <td>0.002810</td>\n",
       "      <td>-0.004064</td>\n",
       "      <td>0.037426</td>\n",
       "      <td>0.115684</td>\n",
       "      <td>0.022992</td>\n",
       "      <td>...</td>\n",
       "      <td>0.032491</td>\n",
       "      <td>-0.043163</td>\n",
       "      <td>0.059642</td>\n",
       "      <td>-0.021499</td>\n",
       "      <td>-0.070247</td>\n",
       "      <td>0.023989</td>\n",
       "      <td>-0.014840</td>\n",
       "      <td>-0.031483</td>\n",
       "      <td>-0.030843</td>\n",
       "      <td>0.247873</td>\n",
       "    </tr>\n",
       "    <tr>\n",
       "      <th>3</th>\n",
       "      <td>0.074293</td>\n",
       "      <td>0.040511</td>\n",
       "      <td>-0.004778</td>\n",
       "      <td>-0.016028</td>\n",
       "      <td>0.043253</td>\n",
       "      <td>-0.019031</td>\n",
       "      <td>0.010677</td>\n",
       "      <td>-0.001667</td>\n",
       "      <td>-0.018004</td>\n",
       "      <td>-0.009036</td>\n",
       "      <td>...</td>\n",
       "      <td>-0.051690</td>\n",
       "      <td>-0.010257</td>\n",
       "      <td>0.004975</td>\n",
       "      <td>0.017619</td>\n",
       "      <td>0.041261</td>\n",
       "      <td>-0.029366</td>\n",
       "      <td>-0.006718</td>\n",
       "      <td>-0.010197</td>\n",
       "      <td>-0.063887</td>\n",
       "      <td>0.570451</td>\n",
       "    </tr>\n",
       "    <tr>\n",
       "      <th>4</th>\n",
       "      <td>0.098058</td>\n",
       "      <td>0.052397</td>\n",
       "      <td>-0.012488</td>\n",
       "      <td>0.083774</td>\n",
       "      <td>0.019192</td>\n",
       "      <td>0.008235</td>\n",
       "      <td>-0.029036</td>\n",
       "      <td>-0.039514</td>\n",
       "      <td>-0.045138</td>\n",
       "      <td>0.004903</td>\n",
       "      <td>...</td>\n",
       "      <td>0.043760</td>\n",
       "      <td>-0.012135</td>\n",
       "      <td>0.006492</td>\n",
       "      <td>0.002710</td>\n",
       "      <td>0.046947</td>\n",
       "      <td>0.009172</td>\n",
       "      <td>0.004975</td>\n",
       "      <td>0.035460</td>\n",
       "      <td>-0.000592</td>\n",
       "      <td>0.048204</td>\n",
       "    </tr>\n",
       "  </tbody>\n",
       "</table>\n",
       "<p>5 rows × 769 columns</p>\n",
       "</div>"
      ],
      "text/plain": [
       "   sem_diff_0  sem_diff_1  sem_diff_2  sem_diff_3  sem_diff_4  sem_diff_5  \\\n",
       "0    0.019083    0.006649    0.014612   -0.021872    0.013211    0.006887   \n",
       "1   -0.002131    0.100618   -0.006860   -0.015465   -0.002975   -0.005482   \n",
       "2   -0.073394   -0.059585    0.028701   -0.039264    0.008226    0.002810   \n",
       "3    0.074293    0.040511   -0.004778   -0.016028    0.043253   -0.019031   \n",
       "4    0.098058    0.052397   -0.012488    0.083774    0.019192    0.008235   \n",
       "\n",
       "   sem_diff_6  sem_diff_7  sem_diff_8  sem_diff_9  ...  sem_diff_759  \\\n",
       "0    0.016760   -0.006569    0.021447    0.004465  ...      0.033263   \n",
       "1    0.043374    0.023411   -0.042388    0.009743  ...     -0.008845   \n",
       "2   -0.004064    0.037426    0.115684    0.022992  ...      0.032491   \n",
       "3    0.010677   -0.001667   -0.018004   -0.009036  ...     -0.051690   \n",
       "4   -0.029036   -0.039514   -0.045138    0.004903  ...      0.043760   \n",
       "\n",
       "   sem_diff_760  sem_diff_761  sem_diff_762  sem_diff_763  sem_diff_764  \\\n",
       "0      0.005071     -0.003286     -0.022461     -0.016347      0.011188   \n",
       "1     -0.001277     -0.013604      0.014051     -0.015411     -0.013543   \n",
       "2     -0.043163      0.059642     -0.021499     -0.070247      0.023989   \n",
       "3     -0.010257      0.004975      0.017619      0.041261     -0.029366   \n",
       "4     -0.012135      0.006492      0.002710      0.046947      0.009172   \n",
       "\n",
       "   sem_diff_765  sem_diff_766  sem_diff_767  cosine_sim  \n",
       "0      0.021890      0.042394      0.019980    0.551330  \n",
       "1     -0.029538      0.019512     -0.032364    0.610046  \n",
       "2     -0.014840     -0.031483     -0.030843    0.247873  \n",
       "3     -0.006718     -0.010197     -0.063887    0.570451  \n",
       "4      0.004975      0.035460     -0.000592    0.048204  \n",
       "\n",
       "[5 rows x 769 columns]"
      ]
     },
     "metadata": {},
     "output_type": "display_data"
    },
    {
     "name": "stdout",
     "output_type": "stream",
     "text": [
      "Super feature set created. Shape: (95, 805)\n"
     ]
    }
   ],
   "source": [
    "# Configuration\n",
    "ST_MODEL_NAME = 'sentence-transformers/all-mpnet-base-v2'\n",
    "\n",
    "print(\"Loading Sentence Transformer model...\")\n",
    "st_model = SentenceTransformer(ST_MODEL_NAME)\n",
    "\n",
    "print(\"Encoding texts...\")\n",
    "embeddings1 = st_model.encode(train_df['text_1'].tolist(), show_progress_bar=True)\n",
    "embeddings2 = st_model.encode(train_df['text_2'].tolist(), show_progress_bar=True)\n",
    "\n",
    "print(f\"Embeddings created. Shape: {embeddings1.shape}\")\n",
    "\n",
    "print(\"Creating semantic features\")\n",
    "\n",
    "# 1. Cosine Similarity\n",
    "cosine_similarities = 1 - paired_cosine_distances(embeddings1, embeddings2)\n",
    "\n",
    "# 2. Element wise Differences\n",
    "embedding_diffs = embeddings1 - embeddings2\n",
    "\n",
    "# Combine two a new feature DataFrame\n",
    "semantic_features_df = pd.DataFrame(embedding_diffs)\n",
    "semantic_features_df.columns = [f'sem_diff_{i}' for i in range(embedding_diffs.shape[1])]\n",
    "semantic_features_df['cosine_sim'] = cosine_similarities\n",
    "\n",
    "print(\"Semantic Features Created\")\n",
    "display(semantic_features_df.head())\n",
    "\n",
    "# Create the super feature set\n",
    "X_super = pd.concat([feature_df, semantic_features_df], axis=1)\n",
    "y = train_df['real_text_id'] - 1\n",
    "\n",
    "print(f\"Super feature set created. Shape: {X_super.shape}\")"
   ]
  },
  {
   "cell_type": "code",
   "execution_count": null,
   "id": "0efb3216",
   "metadata": {},
   "outputs": [
    {
     "name": "stdout",
     "output_type": "stream",
     "text": [
      "--- Fold 1/5 ---\n",
      "Fold 1 Pairwise Accuracy: 0.78947\n",
      "--- Fold 2/5 ---\n",
      "Fold 2 Pairwise Accuracy: 0.89474\n",
      "--- Fold 3/5 ---\n",
      "Fold 3 Pairwise Accuracy: 1.00000\n",
      "--- Fold 4/5 ---\n",
      "Fold 4 Pairwise Accuracy: 1.00000\n",
      "--- Fold 5/5 ---\n",
      "Fold 5 Pairwise Accuracy: 0.94737\n",
      "\n",
      "Overall CV Pairwise Accuracy with SUPER Features: 0.92632\n"
     ]
    }
   ],
   "source": [
    "best_xgb_params = {\n",
    "    'objective': 'binary:logistic',\n",
    "    'eval_metric': 'logloss',\n",
    "    'learning_rate': 0.04346,\n",
    "    'max_depth': 15,\n",
    "    'subsample': 0.65029,\n",
    "    'colsample_bytree': 0.8286,\n",
    "    'min_child_weight': 1,\n",
    "    'random_state': 42,\n",
    "    'n_jobs': -1,\n",
    "    'early_stopping_rounds': 100  \n",
    "}\n",
    "\n",
    "N_SPLITS = 5\n",
    "skf = StratifiedKFold(n_splits=N_SPLITS, shuffle=True, random_state=42)\n",
    "\n",
    "oof_preds_super = np.zeros(len(X_super))\n",
    "models_super = []\n",
    "\n",
    "for fold, (train_idx, val_idx) in enumerate(skf.split(X_super, y)):\n",
    "    print(f\"--- Fold {fold+1}/{N_SPLITS} ---\")\n",
    "    \n",
    "    X_train, y_train = X_super.iloc[train_idx], y.iloc[train_idx]\n",
    "    X_val, y_val = X_super.iloc[val_idx], y.iloc[val_idx]\n",
    "    \n",
    "    model = xgb.XGBClassifier(\n",
    "        n_estimators=1000,\n",
    "        **best_xgb_params\n",
    "    )\n",
    "    \n",
    "    model.fit(X_train, y_train,\n",
    "              eval_set=[(X_val, y_val)],\n",
    "              verbose=False)\n",
    "    \n",
    "    preds = model.predict(X_val)\n",
    "    oof_preds_super[val_idx] = preds\n",
    "    models_super.append(model)\n",
    "    \n",
    "    acc = accuracy_score(y_val, preds)\n",
    "    print(f\"Fold {fold+1} Pairwise Accuracy: {acc:.5f}\")\n",
    "\n",
    "overall_accuracy_super = accuracy_score(y, oof_preds_super)\n",
    "print(f\"\\nOverall CV Pairwise Accuracy with SUPER Features: {overall_accuracy_super:.5f}\")"
   ]
  },
  {
   "cell_type": "code",
   "execution_count": null,
   "id": "3817aa39",
   "metadata": {},
   "outputs": [
    {
     "name": "stdout",
     "output_type": "stream",
     "text": [
      "Training on final XGBoost model on the entire training dataset...\n",
      "Final model training complete.\n"
     ]
    }
   ],
   "source": [
    "print(\"Training on final XGBoost model on the entire training dataset...\")\n",
    "\n",
    "best_xgb_params = {\n",
    "    'objective': 'binary:logistic',\n",
    "    'eval_metric': 'logloss',\n",
    "    'learning_rate': 0.04346,\n",
    "    'max_depth': 15,\n",
    "    'subsample': 0.65029,\n",
    "    'colsample_bytree': 0.8286,\n",
    "    'min_child_weight': 1,\n",
    "    'random_state': 42,\n",
    "    'n_jobs': -1,\n",
    "}\n",
    "final_model = xgb.XGBClassifier(**best_xgb_params)\n",
    "final_model.fit(X_super, y)\n",
    "\n",
    "print(\"Final model training complete.\")\n"
   ]
  },
  {
   "cell_type": "code",
   "execution_count": null,
   "id": "43eda1dd",
   "metadata": {},
   "outputs": [
    {
     "name": "stdout",
     "output_type": "stream",
     "text": [
      "Loading test data...\n",
      "Found 1068 test directories\n",
      "ID range: 0 to 1067\n",
      "Sample directory names: ['article_0000', 'article_0001', 'article_0002', 'article_0003', 'article_0004']\n"
     ]
    },
    {
     "data": {
      "application/vnd.jupyter.widget-view+json": {
       "model_id": "e8d875e88fc645a5a7bfc3f9ffed83b8",
       "version_major": 2,
       "version_minor": 0
      },
      "text/plain": [
       "Loading Test Text 1:   0%|          | 0/1068 [00:00<?, ?it/s]"
      ]
     },
     "metadata": {},
     "output_type": "display_data"
    },
    {
     "data": {
      "application/vnd.jupyter.widget-view+json": {
       "model_id": "c9933fddc57b4882b3dff333c2b61460",
       "version_major": 2,
       "version_minor": 0
      },
      "text/plain": [
       "Loading Test Text 2:   0%|          | 0/1068 [00:00<?, ?it/s]"
      ]
     },
     "metadata": {},
     "output_type": "display_data"
    },
    {
     "name": "stdout",
     "output_type": "stream",
     "text": [
      "Test data loaded. Shape: (1068, 4)\n",
      "Creating structural features for test set...\n"
     ]
    },
    {
     "data": {
      "application/vnd.jupyter.widget-view+json": {
       "model_id": "53ebd0a9020f4550ad9aa5eb19146a4f",
       "version_major": 2,
       "version_minor": 0
      },
      "text/plain": [
       "Loading Test Text 2:   0%|          | 0/1068 [00:00<?, ?it/s]"
      ]
     },
     "metadata": {},
     "output_type": "display_data"
    },
    {
     "data": {
      "application/vnd.jupyter.widget-view+json": {
       "model_id": "1dda5538049a4c99afa96e373a43bf2f",
       "version_major": 2,
       "version_minor": 0
      },
      "text/plain": [
       "Loading Test Text 2:   0%|          | 0/1068 [00:00<?, ?it/s]"
      ]
     },
     "metadata": {},
     "output_type": "display_data"
    },
    {
     "name": "stdout",
     "output_type": "stream",
     "text": [
      "Creating semantic features for test set...\n"
     ]
    },
    {
     "data": {
      "application/vnd.jupyter.widget-view+json": {
       "model_id": "1341e0c4a61b4600ba6c37b5133d9997",
       "version_major": 2,
       "version_minor": 0
      },
      "text/plain": [
       "Batches:   0%|          | 0/34 [00:00<?, ?it/s]"
      ]
     },
     "metadata": {},
     "output_type": "display_data"
    },
    {
     "data": {
      "application/vnd.jupyter.widget-view+json": {
       "model_id": "8766dd60330541c0865b3c7b73b22604",
       "version_major": 2,
       "version_minor": 0
      },
      "text/plain": [
       "Batches:   0%|          | 0/34 [00:00<?, ?it/s]"
      ]
     },
     "metadata": {},
     "output_type": "display_data"
    },
    {
     "name": "stdout",
     "output_type": "stream",
     "text": [
      "Combining features for the final test set...\n",
      "Final test feature set created. Shape: (1068, 805)\n",
      "Test feature engineering complete!\n"
     ]
    }
   ],
   "source": [
    "# Create Inference Pipeline for test data\n",
    "\n",
    "print(\"Loading test data...\")\n",
    "import re\n",
    "\n",
    "def extract_id_from_dirname(dirname):\n",
    "    \"\"\"Extract numeric ID from directory names like 'article_0000' or '1501'\"\"\"\n",
    "    match = re.search(r'(\\d+)', dirname)\n",
    "    if match:\n",
    "        return int(match.group(1))\n",
    "    else:\n",
    "        try:\n",
    "            return int(dirname)\n",
    "        except ValueError:\n",
    "            return None\n",
    "\n",
    "test_dirs = [d for d in TEST_DIR.iterdir() if d.is_dir()]\n",
    "test_ids_with_names = []\n",
    "\n",
    "for d in test_dirs:\n",
    "    numeric_id = extract_id_from_dirname(d.name)\n",
    "    if numeric_id is not None:\n",
    "        test_ids_with_names.append((numeric_id, d.name))\n",
    "\n",
    "# Sort by numeric ID\n",
    "test_ids_with_names.sort(key=lambda x: x[0])\n",
    "test_ids = [x[0] for x in test_ids_with_names]\n",
    "test_dir_names = [x[1] for x in test_ids_with_names]\n",
    "\n",
    "print(f\"Found {len(test_ids)} test directories\")\n",
    "print(f\"ID range: {min(test_ids)} to {max(test_ids)}\")\n",
    "print(f\"Sample directory names: {test_dir_names[:5]}\")\n",
    "\n",
    "test_df = pd.DataFrame({\n",
    "    'id': test_ids, \n",
    "    'dir_name': test_dir_names\n",
    "})\n",
    "\n",
    "# Modified get_text function calls to use directory names\n",
    "def get_text_by_dir_name(dir_name, filename):\n",
    "    \"\"\"Get text using the actual directory name\"\"\"\n",
    "    return get_text(TEST_DIR / dir_name / filename)\n",
    "\n",
    "tqdm.pandas(desc=\"Loading Test Text 1\")\n",
    "test_df['text_1'] = test_df['dir_name'].progress_apply(lambda x: get_text_by_dir_name(x, 'file_1.txt'))\n",
    "\n",
    "tqdm.pandas(desc=\"Loading Test Text 2\") \n",
    "test_df['text_2'] = test_df['dir_name'].progress_apply(lambda x: get_text_by_dir_name(x, 'file_2.txt'))\n",
    "\n",
    "print(f\"Test data loaded. Shape: {test_df.shape}\")\n",
    "\n",
    "# Apply the Full Feature Engineering Pipeline to the Test Data\n",
    "\n",
    "# 1. Structural/Lexical Features (using the function from Phase 2)\n",
    "print(\"Creating structural features for test set...\")\n",
    "test_feats_1 = test_df['text_1'].progress_apply(create_features)\n",
    "test_feats_1_df = pd.json_normalize(test_feats_1)\n",
    "test_feats_1_df.columns = [f'{col}_1' for col in test_feats_1_df.columns]\n",
    "\n",
    "test_feats_2 = test_df['text_2'].progress_apply(create_features)\n",
    "test_feats_2_df = pd.json_normalize(test_feats_2)\n",
    "test_feats_2_df.columns = [f'{col}_2' for col in test_feats_2_df.columns]\n",
    "\n",
    "test_feature_df = pd.concat([test_feats_1_df, test_feats_2_df], axis=1)\n",
    "base_features = [col.replace('_1', '') for col in test_feats_1_df.columns]\n",
    "\n",
    "for col in base_features:\n",
    "    epsilon = 1e-6\n",
    "    test_feature_df[f'{col}_diff'] = test_feature_df[f'{col}_1'] - test_feature_df[f'{col}_2']\n",
    "    test_feature_df[f'{col}_ratio'] = test_feature_df[f'{col}_1'] / (test_feature_df[f'{col}_2'] + epsilon)\n",
    "\n",
    "# Semantic Features\n",
    "print(\"Creating semantic features for test set...\")\n",
    "st_model = SentenceTransformer(ST_MODEL_NAME)  # Reload model if needed\n",
    "\n",
    "test_embeddings1 = st_model.encode(test_df['text_1'].tolist(), show_progress_bar=True)\n",
    "test_embeddings2 = st_model.encode(test_df['text_2'].tolist(), show_progress_bar=True)\n",
    "\n",
    "test_cosine_similarities = 1 - paired_cosine_distances(test_embeddings1, test_embeddings2)\n",
    "test_embedding_diffs = test_embeddings1 - test_embeddings2\n",
    "\n",
    "test_semantic_features_df = pd.DataFrame(test_embedding_diffs)\n",
    "test_semantic_features_df.columns = [f'sem_diff_{i}' for i in range(test_embedding_diffs.shape[1])]\n",
    "test_semantic_features_df['cosine_sim'] = test_cosine_similarities\n",
    "\n",
    "# Combine into the final \"Super\" test feature set\n",
    "print(\"Combining features for the final test set...\")\n",
    "X_test_super = pd.concat([test_feature_df, test_semantic_features_df], axis=1)\n",
    "\n",
    "# Ensure the columns are in the same order as the training data\n",
    "try:\n",
    "    X_test_super = X_test_super[X_super.columns]\n",
    "    print(f\"Final test feature set created. Shape: {X_test_super.shape}\")\n",
    "except KeyError as e:\n",
    "    print(f\"Column mismatch error: {e}\")\n",
    "    print(\"Training columns not in test set:\")\n",
    "    missing_cols = set(X_super.columns) - set(X_test_super.columns)\n",
    "    print(missing_cols)\n",
    "    print(\"Test columns not in training set:\")\n",
    "    extra_cols = set(X_test_super.columns) - set(X_super.columns)\n",
    "    print(extra_cols)\n",
    "    \n",
    "    # Use intersection of columns for now\n",
    "    common_cols = list(set(X_super.columns).intersection(set(X_test_super.columns)))\n",
    "    X_test_super = X_test_super[common_cols]\n",
    "    print(f\"Using common columns only. Final shape: {X_test_super.shape}\")\n",
    "\n",
    "print(\"Test feature engineering complete!\")"
   ]
  },
  {
   "cell_type": "code",
   "execution_count": 18,
   "id": "1200c53b",
   "metadata": {},
   "outputs": [
    {
     "name": "stdout",
     "output_type": "stream",
     "text": [
      "Making predictions on the test set...\n",
      "Submission file created successfully at: ..\\submission.csv\n"
     ]
    },
    {
     "data": {
      "text/html": [
       "<div>\n",
       "<style scoped>\n",
       "    .dataframe tbody tr th:only-of-type {\n",
       "        vertical-align: middle;\n",
       "    }\n",
       "\n",
       "    .dataframe tbody tr th {\n",
       "        vertical-align: top;\n",
       "    }\n",
       "\n",
       "    .dataframe thead th {\n",
       "        text-align: right;\n",
       "    }\n",
       "</style>\n",
       "<table border=\"1\" class=\"dataframe\">\n",
       "  <thead>\n",
       "    <tr style=\"text-align: right;\">\n",
       "      <th></th>\n",
       "      <th>id</th>\n",
       "      <th>real_text_id</th>\n",
       "    </tr>\n",
       "  </thead>\n",
       "  <tbody>\n",
       "    <tr>\n",
       "      <th>0</th>\n",
       "      <td>0</td>\n",
       "      <td>2</td>\n",
       "    </tr>\n",
       "    <tr>\n",
       "      <th>1</th>\n",
       "      <td>1</td>\n",
       "      <td>2</td>\n",
       "    </tr>\n",
       "    <tr>\n",
       "      <th>2</th>\n",
       "      <td>2</td>\n",
       "      <td>1</td>\n",
       "    </tr>\n",
       "    <tr>\n",
       "      <th>3</th>\n",
       "      <td>3</td>\n",
       "      <td>1</td>\n",
       "    </tr>\n",
       "    <tr>\n",
       "      <th>4</th>\n",
       "      <td>4</td>\n",
       "      <td>2</td>\n",
       "    </tr>\n",
       "  </tbody>\n",
       "</table>\n",
       "</div>"
      ],
      "text/plain": [
       "   id  real_text_id\n",
       "0   0             2\n",
       "1   1             2\n",
       "2   2             1\n",
       "3   3             1\n",
       "4   4             2"
      ]
     },
     "metadata": {},
     "output_type": "display_data"
    }
   ],
   "source": [
    "print(\"Making predictions on the test set...\")\n",
    "test_predictions = final_model.predict(X_test_super)\n",
    "\n",
    "# --- Create the submission file ---\n",
    "submission_df = pd.DataFrame({'id': test_df['id']})\n",
    "\n",
    "# The model predicts 0 (for text_1) or 1 (for text_2).\n",
    "# The submission requires 1 or 2. So we add 1.\n",
    "submission_df['real_text_id'] = test_predictions + 1\n",
    "\n",
    "# Save to CSV\n",
    "submission_path = BASE_PATH / 'submission.csv'\n",
    "submission_df.to_csv(submission_path, index=False)\n",
    "\n",
    "print(f\"Submission file created successfully at: {submission_path}\")\n",
    "display(submission_df.head())\n"
   ]
  },
  {
   "cell_type": "code",
   "execution_count": null,
   "id": "9e3702e7",
   "metadata": {},
   "outputs": [],
   "source": []
  }
 ],
 "metadata": {
  "kernelspec": {
   "display_name": "base",
   "language": "python",
   "name": "python3"
  },
  "language_info": {
   "codemirror_mode": {
    "name": "ipython",
    "version": 3
   },
   "file_extension": ".py",
   "mimetype": "text/x-python",
   "name": "python",
   "nbconvert_exporter": "python",
   "pygments_lexer": "ipython3",
   "version": "3.12.3"
  }
 },
 "nbformat": 4,
 "nbformat_minor": 5
}
